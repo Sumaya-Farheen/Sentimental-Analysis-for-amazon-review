{
  "nbformat": 4,
  "nbformat_minor": 0,
  "metadata": {
    "colab": {
      "provenance": []
    },
    "kernelspec": {
      "name": "python3",
      "display_name": "Python 3"
    },
    "language_info": {
      "name": "python"
    }
  },
  "cells": [
    {
      "cell_type": "code",
      "execution_count": null,
      "metadata": {
        "id": "mZDmxe6t26U1"
      },
      "outputs": [],
      "source": [
        "import pandas as pd\n",
        "import nltk\n",
        "import string\n",
        "import numpy as np\n",
        "import matplotlib.pyplot as plt\n",
        "import seaborn as sns\n",
        "\n",
        "plt.style.use('ggplot')\n"
      ]
    },
    {
      "cell_type": "code",
      "source": [
        "df = pd.read_csv(\"/content/Amazon_reviews.csv\")"
      ],
      "metadata": {
        "id": "ELspAcvW3Cff"
      },
      "execution_count": null,
      "outputs": []
    },
    {
      "cell_type": "code",
      "source": [
        "df.head()"
      ],
      "metadata": {
        "colab": {
          "base_uri": "https://localhost:8080/",
          "height": 635
        },
        "id": "tIJd7rAU3Chk",
        "outputId": "485a44fd-4df5-4eed-d8e5-c1b646e7ad63"
      },
      "execution_count": null,
      "outputs": [
        {
          "output_type": "execute_result",
          "data": {
            "text/plain": [
              "         user_name             ratings  \\\n",
              "0   Kavyashree D N  5.0 out of 5 stars   \n",
              "1   Kavyashree D N  4.0 out of 5 stars   \n",
              "2   Kavyashree D N  5.0 out of 5 stars   \n",
              "3  Amazon Customer  4.0 out of 5 stars   \n",
              "4  Amazon Customer  1.0 out of 5 stars   \n",
              "\n",
              "                                             comment  \\\n",
              "0                                        Comfortable   \n",
              "1                                    Product is good   \n",
              "2                                       Best product   \n",
              "3  Good quality product...if want little loose go...   \n",
              "4        Hang after 7 days, defective piece received   \n",
              "\n",
              "                                    time user_product_description  \\\n",
              "0  Reviewed in India on 14 December 2022  Size: 5 UKColour: Black   \n",
              "1  Reviewed in India on 14 December 2022     Colour: BlackSize: M   \n",
              "2      Reviewed in India on 22 July 2022                      NaN   \n",
              "3   Reviewed in India on 3 November 2022      Colour: NavySize: L   \n",
              "4   Reviewed in India on 3 November 2022                      NaN   \n",
              "\n",
              "               state                                        description  \\\n",
              "0  Verified Purchase  It will give you nice look and it’s very comfo...   \n",
              "1  Verified Purchase  Product is good and comfortable but I am givin...   \n",
              "2                NaN  Quality is fine. Chain and the stones are look...   \n",
              "3  Verified Purchase  Production is very good, better value for mone...   \n",
              "4  Verified Purchase  I am not even moderate user still hang while u...   \n",
              "\n",
              "                                            user_URL  \\\n",
              "0  https://www.amazon.in/gp/profile/amzn1.account...   \n",
              "1  https://www.amazon.in/gp/profile/amzn1.account...   \n",
              "2  https://www.amazon.in/gp/profile/amzn1.account...   \n",
              "3  https://www.amazon.in/gp/profile/amzn1.account...   \n",
              "4  https://www.amazon.in/gp/profile/amzn1.account...   \n",
              "\n",
              "                                         product_URL  \n",
              "0  https://www.amazon.in/Womens-Stylish-Comfort-S...  \n",
              "1  https://www.amazon.in/Fort-Collins-Womens-Swea...  \n",
              "2  https://www.amazon.in/Jixara-Wearing-Necklace-...  \n",
              "3  https://www.amazon.in/Qube-Fort-Collins-Sweats...  \n",
              "4  https://www.amazon.in/OnePlus-Prime-128GB-Stor...  "
            ],
            "text/html": [
              "\n",
              "  <div id=\"df-ce0c5239-91ab-4d8c-965f-d4d658ba5058\">\n",
              "    <div class=\"colab-df-container\">\n",
              "      <div>\n",
              "<style scoped>\n",
              "    .dataframe tbody tr th:only-of-type {\n",
              "        vertical-align: middle;\n",
              "    }\n",
              "\n",
              "    .dataframe tbody tr th {\n",
              "        vertical-align: top;\n",
              "    }\n",
              "\n",
              "    .dataframe thead th {\n",
              "        text-align: right;\n",
              "    }\n",
              "</style>\n",
              "<table border=\"1\" class=\"dataframe\">\n",
              "  <thead>\n",
              "    <tr style=\"text-align: right;\">\n",
              "      <th></th>\n",
              "      <th>user_name</th>\n",
              "      <th>ratings</th>\n",
              "      <th>comment</th>\n",
              "      <th>time</th>\n",
              "      <th>user_product_description</th>\n",
              "      <th>state</th>\n",
              "      <th>description</th>\n",
              "      <th>user_URL</th>\n",
              "      <th>product_URL</th>\n",
              "    </tr>\n",
              "  </thead>\n",
              "  <tbody>\n",
              "    <tr>\n",
              "      <th>0</th>\n",
              "      <td>Kavyashree D N</td>\n",
              "      <td>5.0 out of 5 stars</td>\n",
              "      <td>Comfortable</td>\n",
              "      <td>Reviewed in India on 14 December 2022</td>\n",
              "      <td>Size: 5 UKColour: Black</td>\n",
              "      <td>Verified Purchase</td>\n",
              "      <td>It will give you nice look and it’s very comfo...</td>\n",
              "      <td>https://www.amazon.in/gp/profile/amzn1.account...</td>\n",
              "      <td>https://www.amazon.in/Womens-Stylish-Comfort-S...</td>\n",
              "    </tr>\n",
              "    <tr>\n",
              "      <th>1</th>\n",
              "      <td>Kavyashree D N</td>\n",
              "      <td>4.0 out of 5 stars</td>\n",
              "      <td>Product is good</td>\n",
              "      <td>Reviewed in India on 14 December 2022</td>\n",
              "      <td>Colour: BlackSize: M</td>\n",
              "      <td>Verified Purchase</td>\n",
              "      <td>Product is good and comfortable but I am givin...</td>\n",
              "      <td>https://www.amazon.in/gp/profile/amzn1.account...</td>\n",
              "      <td>https://www.amazon.in/Fort-Collins-Womens-Swea...</td>\n",
              "    </tr>\n",
              "    <tr>\n",
              "      <th>2</th>\n",
              "      <td>Kavyashree D N</td>\n",
              "      <td>5.0 out of 5 stars</td>\n",
              "      <td>Best product</td>\n",
              "      <td>Reviewed in India on 22 July 2022</td>\n",
              "      <td>NaN</td>\n",
              "      <td>NaN</td>\n",
              "      <td>Quality is fine. Chain and the stones are look...</td>\n",
              "      <td>https://www.amazon.in/gp/profile/amzn1.account...</td>\n",
              "      <td>https://www.amazon.in/Jixara-Wearing-Necklace-...</td>\n",
              "    </tr>\n",
              "    <tr>\n",
              "      <th>3</th>\n",
              "      <td>Amazon Customer</td>\n",
              "      <td>4.0 out of 5 stars</td>\n",
              "      <td>Good quality product...if want little loose go...</td>\n",
              "      <td>Reviewed in India on 3 November 2022</td>\n",
              "      <td>Colour: NavySize: L</td>\n",
              "      <td>Verified Purchase</td>\n",
              "      <td>Production is very good, better value for mone...</td>\n",
              "      <td>https://www.amazon.in/gp/profile/amzn1.account...</td>\n",
              "      <td>https://www.amazon.in/Qube-Fort-Collins-Sweats...</td>\n",
              "    </tr>\n",
              "    <tr>\n",
              "      <th>4</th>\n",
              "      <td>Amazon Customer</td>\n",
              "      <td>1.0 out of 5 stars</td>\n",
              "      <td>Hang after 7 days, defective piece received</td>\n",
              "      <td>Reviewed in India on 3 November 2022</td>\n",
              "      <td>NaN</td>\n",
              "      <td>Verified Purchase</td>\n",
              "      <td>I am not even moderate user still hang while u...</td>\n",
              "      <td>https://www.amazon.in/gp/profile/amzn1.account...</td>\n",
              "      <td>https://www.amazon.in/OnePlus-Prime-128GB-Stor...</td>\n",
              "    </tr>\n",
              "  </tbody>\n",
              "</table>\n",
              "</div>\n",
              "      <button class=\"colab-df-convert\" onclick=\"convertToInteractive('df-ce0c5239-91ab-4d8c-965f-d4d658ba5058')\"\n",
              "              title=\"Convert this dataframe to an interactive table.\"\n",
              "              style=\"display:none;\">\n",
              "        \n",
              "  <svg xmlns=\"http://www.w3.org/2000/svg\" height=\"24px\"viewBox=\"0 0 24 24\"\n",
              "       width=\"24px\">\n",
              "    <path d=\"M0 0h24v24H0V0z\" fill=\"none\"/>\n",
              "    <path d=\"M18.56 5.44l.94 2.06.94-2.06 2.06-.94-2.06-.94-.94-2.06-.94 2.06-2.06.94zm-11 1L8.5 8.5l.94-2.06 2.06-.94-2.06-.94L8.5 2.5l-.94 2.06-2.06.94zm10 10l.94 2.06.94-2.06 2.06-.94-2.06-.94-.94-2.06-.94 2.06-2.06.94z\"/><path d=\"M17.41 7.96l-1.37-1.37c-.4-.4-.92-.59-1.43-.59-.52 0-1.04.2-1.43.59L10.3 9.45l-7.72 7.72c-.78.78-.78 2.05 0 2.83L4 21.41c.39.39.9.59 1.41.59.51 0 1.02-.2 1.41-.59l7.78-7.78 2.81-2.81c.8-.78.8-2.07 0-2.86zM5.41 20L4 18.59l7.72-7.72 1.47 1.35L5.41 20z\"/>\n",
              "  </svg>\n",
              "      </button>\n",
              "      \n",
              "  <style>\n",
              "    .colab-df-container {\n",
              "      display:flex;\n",
              "      flex-wrap:wrap;\n",
              "      gap: 12px;\n",
              "    }\n",
              "\n",
              "    .colab-df-convert {\n",
              "      background-color: #E8F0FE;\n",
              "      border: none;\n",
              "      border-radius: 50%;\n",
              "      cursor: pointer;\n",
              "      display: none;\n",
              "      fill: #1967D2;\n",
              "      height: 32px;\n",
              "      padding: 0 0 0 0;\n",
              "      width: 32px;\n",
              "    }\n",
              "\n",
              "    .colab-df-convert:hover {\n",
              "      background-color: #E2EBFA;\n",
              "      box-shadow: 0px 1px 2px rgba(60, 64, 67, 0.3), 0px 1px 3px 1px rgba(60, 64, 67, 0.15);\n",
              "      fill: #174EA6;\n",
              "    }\n",
              "\n",
              "    [theme=dark] .colab-df-convert {\n",
              "      background-color: #3B4455;\n",
              "      fill: #D2E3FC;\n",
              "    }\n",
              "\n",
              "    [theme=dark] .colab-df-convert:hover {\n",
              "      background-color: #434B5C;\n",
              "      box-shadow: 0px 1px 3px 1px rgba(0, 0, 0, 0.15);\n",
              "      filter: drop-shadow(0px 1px 2px rgba(0, 0, 0, 0.3));\n",
              "      fill: #FFFFFF;\n",
              "    }\n",
              "  </style>\n",
              "\n",
              "      <script>\n",
              "        const buttonEl =\n",
              "          document.querySelector('#df-ce0c5239-91ab-4d8c-965f-d4d658ba5058 button.colab-df-convert');\n",
              "        buttonEl.style.display =\n",
              "          google.colab.kernel.accessAllowed ? 'block' : 'none';\n",
              "\n",
              "        async function convertToInteractive(key) {\n",
              "          const element = document.querySelector('#df-ce0c5239-91ab-4d8c-965f-d4d658ba5058');\n",
              "          const dataTable =\n",
              "            await google.colab.kernel.invokeFunction('convertToInteractive',\n",
              "                                                     [key], {});\n",
              "          if (!dataTable) return;\n",
              "\n",
              "          const docLinkHtml = 'Like what you see? Visit the ' +\n",
              "            '<a target=\"_blank\" href=https://colab.research.google.com/notebooks/data_table.ipynb>data table notebook</a>'\n",
              "            + ' to learn more about interactive tables.';\n",
              "          element.innerHTML = '';\n",
              "          dataTable['output_type'] = 'display_data';\n",
              "          await google.colab.output.renderOutput(dataTable, element);\n",
              "          const docLink = document.createElement('div');\n",
              "          docLink.innerHTML = docLinkHtml;\n",
              "          element.appendChild(docLink);\n",
              "        }\n",
              "      </script>\n",
              "    </div>\n",
              "  </div>\n",
              "  "
            ]
          },
          "metadata": {},
          "execution_count": 64
        }
      ]
    },
    {
      "cell_type": "code",
      "source": [
        "# converting into lower case\n",
        "\n",
        "df['description'] = df['description'].str.lower()"
      ],
      "metadata": {
        "id": "eDNBpU_C3Ckl"
      },
      "execution_count": null,
      "outputs": []
    },
    {
      "cell_type": "code",
      "source": [
        "df.head()"
      ],
      "metadata": {
        "colab": {
          "base_uri": "https://localhost:8080/",
          "height": 617
        },
        "id": "yNRPKmwc3Cnk",
        "outputId": "b71e61ff-c1ef-4579-daab-20f57cd3f97b"
      },
      "execution_count": null,
      "outputs": [
        {
          "output_type": "execute_result",
          "data": {
            "text/plain": [
              "         user_name             ratings  \\\n",
              "0   Kavyashree D N  5.0 out of 5 stars   \n",
              "1   Kavyashree D N  4.0 out of 5 stars   \n",
              "2   Kavyashree D N  5.0 out of 5 stars   \n",
              "3  Amazon Customer  4.0 out of 5 stars   \n",
              "4  Amazon Customer  1.0 out of 5 stars   \n",
              "\n",
              "                                             comment  \\\n",
              "0                                        Comfortable   \n",
              "1                                    Product is good   \n",
              "2                                       Best product   \n",
              "3  Good quality product...if want little loose go...   \n",
              "4        Hang after 7 days, defective piece received   \n",
              "\n",
              "                                    time user_product_description  \\\n",
              "0  Reviewed in India on 14 December 2022  Size: 5 UKColour: Black   \n",
              "1  Reviewed in India on 14 December 2022     Colour: BlackSize: M   \n",
              "2      Reviewed in India on 22 July 2022                      NaN   \n",
              "3   Reviewed in India on 3 November 2022      Colour: NavySize: L   \n",
              "4   Reviewed in India on 3 November 2022                      NaN   \n",
              "\n",
              "               state                                        description  \\\n",
              "0  Verified Purchase  it will give you nice look and it’s very comfo...   \n",
              "1  Verified Purchase  product is good and comfortable but i am givin...   \n",
              "2                NaN  quality is fine. chain and the stones are look...   \n",
              "3  Verified Purchase  production is very good, better value for mone...   \n",
              "4  Verified Purchase  i am not even moderate user still hang while u...   \n",
              "\n",
              "                                            user_URL  \\\n",
              "0  https://www.amazon.in/gp/profile/amzn1.account...   \n",
              "1  https://www.amazon.in/gp/profile/amzn1.account...   \n",
              "2  https://www.amazon.in/gp/profile/amzn1.account...   \n",
              "3  https://www.amazon.in/gp/profile/amzn1.account...   \n",
              "4  https://www.amazon.in/gp/profile/amzn1.account...   \n",
              "\n",
              "                                         product_URL  \n",
              "0  https://www.amazon.in/Womens-Stylish-Comfort-S...  \n",
              "1  https://www.amazon.in/Fort-Collins-Womens-Swea...  \n",
              "2  https://www.amazon.in/Jixara-Wearing-Necklace-...  \n",
              "3  https://www.amazon.in/Qube-Fort-Collins-Sweats...  \n",
              "4  https://www.amazon.in/OnePlus-Prime-128GB-Stor...  "
            ],
            "text/html": [
              "\n",
              "  <div id=\"df-42191463-1171-4fd5-9db8-f5b076efa5fb\">\n",
              "    <div class=\"colab-df-container\">\n",
              "      <div>\n",
              "<style scoped>\n",
              "    .dataframe tbody tr th:only-of-type {\n",
              "        vertical-align: middle;\n",
              "    }\n",
              "\n",
              "    .dataframe tbody tr th {\n",
              "        vertical-align: top;\n",
              "    }\n",
              "\n",
              "    .dataframe thead th {\n",
              "        text-align: right;\n",
              "    }\n",
              "</style>\n",
              "<table border=\"1\" class=\"dataframe\">\n",
              "  <thead>\n",
              "    <tr style=\"text-align: right;\">\n",
              "      <th></th>\n",
              "      <th>user_name</th>\n",
              "      <th>ratings</th>\n",
              "      <th>comment</th>\n",
              "      <th>time</th>\n",
              "      <th>user_product_description</th>\n",
              "      <th>state</th>\n",
              "      <th>description</th>\n",
              "      <th>user_URL</th>\n",
              "      <th>product_URL</th>\n",
              "    </tr>\n",
              "  </thead>\n",
              "  <tbody>\n",
              "    <tr>\n",
              "      <th>0</th>\n",
              "      <td>Kavyashree D N</td>\n",
              "      <td>5.0 out of 5 stars</td>\n",
              "      <td>Comfortable</td>\n",
              "      <td>Reviewed in India on 14 December 2022</td>\n",
              "      <td>Size: 5 UKColour: Black</td>\n",
              "      <td>Verified Purchase</td>\n",
              "      <td>it will give you nice look and it’s very comfo...</td>\n",
              "      <td>https://www.amazon.in/gp/profile/amzn1.account...</td>\n",
              "      <td>https://www.amazon.in/Womens-Stylish-Comfort-S...</td>\n",
              "    </tr>\n",
              "    <tr>\n",
              "      <th>1</th>\n",
              "      <td>Kavyashree D N</td>\n",
              "      <td>4.0 out of 5 stars</td>\n",
              "      <td>Product is good</td>\n",
              "      <td>Reviewed in India on 14 December 2022</td>\n",
              "      <td>Colour: BlackSize: M</td>\n",
              "      <td>Verified Purchase</td>\n",
              "      <td>product is good and comfortable but i am givin...</td>\n",
              "      <td>https://www.amazon.in/gp/profile/amzn1.account...</td>\n",
              "      <td>https://www.amazon.in/Fort-Collins-Womens-Swea...</td>\n",
              "    </tr>\n",
              "    <tr>\n",
              "      <th>2</th>\n",
              "      <td>Kavyashree D N</td>\n",
              "      <td>5.0 out of 5 stars</td>\n",
              "      <td>Best product</td>\n",
              "      <td>Reviewed in India on 22 July 2022</td>\n",
              "      <td>NaN</td>\n",
              "      <td>NaN</td>\n",
              "      <td>quality is fine. chain and the stones are look...</td>\n",
              "      <td>https://www.amazon.in/gp/profile/amzn1.account...</td>\n",
              "      <td>https://www.amazon.in/Jixara-Wearing-Necklace-...</td>\n",
              "    </tr>\n",
              "    <tr>\n",
              "      <th>3</th>\n",
              "      <td>Amazon Customer</td>\n",
              "      <td>4.0 out of 5 stars</td>\n",
              "      <td>Good quality product...if want little loose go...</td>\n",
              "      <td>Reviewed in India on 3 November 2022</td>\n",
              "      <td>Colour: NavySize: L</td>\n",
              "      <td>Verified Purchase</td>\n",
              "      <td>production is very good, better value for mone...</td>\n",
              "      <td>https://www.amazon.in/gp/profile/amzn1.account...</td>\n",
              "      <td>https://www.amazon.in/Qube-Fort-Collins-Sweats...</td>\n",
              "    </tr>\n",
              "    <tr>\n",
              "      <th>4</th>\n",
              "      <td>Amazon Customer</td>\n",
              "      <td>1.0 out of 5 stars</td>\n",
              "      <td>Hang after 7 days, defective piece received</td>\n",
              "      <td>Reviewed in India on 3 November 2022</td>\n",
              "      <td>NaN</td>\n",
              "      <td>Verified Purchase</td>\n",
              "      <td>i am not even moderate user still hang while u...</td>\n",
              "      <td>https://www.amazon.in/gp/profile/amzn1.account...</td>\n",
              "      <td>https://www.amazon.in/OnePlus-Prime-128GB-Stor...</td>\n",
              "    </tr>\n",
              "  </tbody>\n",
              "</table>\n",
              "</div>\n",
              "      <button class=\"colab-df-convert\" onclick=\"convertToInteractive('df-42191463-1171-4fd5-9db8-f5b076efa5fb')\"\n",
              "              title=\"Convert this dataframe to an interactive table.\"\n",
              "              style=\"display:none;\">\n",
              "        \n",
              "  <svg xmlns=\"http://www.w3.org/2000/svg\" height=\"24px\"viewBox=\"0 0 24 24\"\n",
              "       width=\"24px\">\n",
              "    <path d=\"M0 0h24v24H0V0z\" fill=\"none\"/>\n",
              "    <path d=\"M18.56 5.44l.94 2.06.94-2.06 2.06-.94-2.06-.94-.94-2.06-.94 2.06-2.06.94zm-11 1L8.5 8.5l.94-2.06 2.06-.94-2.06-.94L8.5 2.5l-.94 2.06-2.06.94zm10 10l.94 2.06.94-2.06 2.06-.94-2.06-.94-.94-2.06-.94 2.06-2.06.94z\"/><path d=\"M17.41 7.96l-1.37-1.37c-.4-.4-.92-.59-1.43-.59-.52 0-1.04.2-1.43.59L10.3 9.45l-7.72 7.72c-.78.78-.78 2.05 0 2.83L4 21.41c.39.39.9.59 1.41.59.51 0 1.02-.2 1.41-.59l7.78-7.78 2.81-2.81c.8-.78.8-2.07 0-2.86zM5.41 20L4 18.59l7.72-7.72 1.47 1.35L5.41 20z\"/>\n",
              "  </svg>\n",
              "      </button>\n",
              "      \n",
              "  <style>\n",
              "    .colab-df-container {\n",
              "      display:flex;\n",
              "      flex-wrap:wrap;\n",
              "      gap: 12px;\n",
              "    }\n",
              "\n",
              "    .colab-df-convert {\n",
              "      background-color: #E8F0FE;\n",
              "      border: none;\n",
              "      border-radius: 50%;\n",
              "      cursor: pointer;\n",
              "      display: none;\n",
              "      fill: #1967D2;\n",
              "      height: 32px;\n",
              "      padding: 0 0 0 0;\n",
              "      width: 32px;\n",
              "    }\n",
              "\n",
              "    .colab-df-convert:hover {\n",
              "      background-color: #E2EBFA;\n",
              "      box-shadow: 0px 1px 2px rgba(60, 64, 67, 0.3), 0px 1px 3px 1px rgba(60, 64, 67, 0.15);\n",
              "      fill: #174EA6;\n",
              "    }\n",
              "\n",
              "    [theme=dark] .colab-df-convert {\n",
              "      background-color: #3B4455;\n",
              "      fill: #D2E3FC;\n",
              "    }\n",
              "\n",
              "    [theme=dark] .colab-df-convert:hover {\n",
              "      background-color: #434B5C;\n",
              "      box-shadow: 0px 1px 3px 1px rgba(0, 0, 0, 0.15);\n",
              "      filter: drop-shadow(0px 1px 2px rgba(0, 0, 0, 0.3));\n",
              "      fill: #FFFFFF;\n",
              "    }\n",
              "  </style>\n",
              "\n",
              "      <script>\n",
              "        const buttonEl =\n",
              "          document.querySelector('#df-42191463-1171-4fd5-9db8-f5b076efa5fb button.colab-df-convert');\n",
              "        buttonEl.style.display =\n",
              "          google.colab.kernel.accessAllowed ? 'block' : 'none';\n",
              "\n",
              "        async function convertToInteractive(key) {\n",
              "          const element = document.querySelector('#df-42191463-1171-4fd5-9db8-f5b076efa5fb');\n",
              "          const dataTable =\n",
              "            await google.colab.kernel.invokeFunction('convertToInteractive',\n",
              "                                                     [key], {});\n",
              "          if (!dataTable) return;\n",
              "\n",
              "          const docLinkHtml = 'Like what you see? Visit the ' +\n",
              "            '<a target=\"_blank\" href=https://colab.research.google.com/notebooks/data_table.ipynb>data table notebook</a>'\n",
              "            + ' to learn more about interactive tables.';\n",
              "          element.innerHTML = '';\n",
              "          dataTable['output_type'] = 'display_data';\n",
              "          await google.colab.output.renderOutput(dataTable, element);\n",
              "          const docLink = document.createElement('div');\n",
              "          docLink.innerHTML = docLinkHtml;\n",
              "          element.appendChild(docLink);\n",
              "        }\n",
              "      </script>\n",
              "    </div>\n",
              "  </div>\n",
              "  "
            ]
          },
          "metadata": {},
          "execution_count": 66
        }
      ]
    },
    {
      "cell_type": "markdown",
      "source": [
        "Removal of stop words"
      ],
      "metadata": {
        "id": "lVEDSsdgTRXR"
      }
    },
    {
      "cell_type": "code",
      "source": [
        "nltk.download('stopwords')"
      ],
      "metadata": {
        "colab": {
          "base_uri": "https://localhost:8080/"
        },
        "id": "oxpD_Cin3Cqd",
        "outputId": "2f824914-0466-4373-e169-37baab3022ad"
      },
      "execution_count": null,
      "outputs": [
        {
          "output_type": "stream",
          "name": "stderr",
          "text": [
            "[nltk_data] Downloading package stopwords to /root/nltk_data...\n",
            "[nltk_data]   Package stopwords is already up-to-date!\n"
          ]
        },
        {
          "output_type": "execute_result",
          "data": {
            "text/plain": [
              "True"
            ]
          },
          "metadata": {},
          "execution_count": 67
        }
      ]
    },
    {
      "cell_type": "code",
      "source": [
        "from nltk.corpus import stopwords"
      ],
      "metadata": {
        "id": "blxGxJTc3Ct2"
      },
      "execution_count": null,
      "outputs": []
    },
    {
      "cell_type": "code",
      "source": [
        "\",\".join(stopwords.words('english'))"
      ],
      "metadata": {
        "colab": {
          "base_uri": "https://localhost:8080/",
          "height": 226
        },
        "id": "SPoQ9wUP3CxM",
        "outputId": "a5a3d8f6-6d29-4690-e13a-769267a26839"
      },
      "execution_count": null,
      "outputs": [
        {
          "output_type": "execute_result",
          "data": {
            "text/plain": [
              "\"i,me,my,myself,we,our,ours,ourselves,you,you're,you've,you'll,you'd,your,yours,yourself,yourselves,he,him,his,himself,she,she's,her,hers,herself,it,it's,its,itself,they,them,their,theirs,themselves,what,which,who,whom,this,that,that'll,these,those,am,is,are,was,were,be,been,being,have,has,had,having,do,does,did,doing,a,an,the,and,but,if,or,because,as,until,while,of,at,by,for,with,about,against,between,into,through,during,before,after,above,below,to,from,up,down,in,out,on,off,over,under,again,further,then,once,here,there,when,where,why,how,all,any,both,each,few,more,most,other,some,such,no,nor,not,only,own,same,so,than,too,very,s,t,can,will,just,don,don't,should,should've,now,d,ll,m,o,re,ve,y,ain,aren,aren't,couldn,couldn't,didn,didn't,doesn,doesn't,hadn,hadn't,hasn,hasn't,haven,haven't,isn,isn't,ma,mightn,mightn't,mustn,mustn't,needn,needn't,shan,shan't,shouldn,shouldn't,wasn,wasn't,weren,weren't,won,won't,wouldn,wouldn't\""
            ],
            "application/vnd.google.colaboratory.intrinsic+json": {
              "type": "string"
            }
          },
          "metadata": {},
          "execution_count": 69
        }
      ]
    },
    {
      "cell_type": "code",
      "source": [
        "stop_words = set(stopwords.words('english'))"
      ],
      "metadata": {
        "id": "9XRU4EcB3C0f"
      },
      "execution_count": null,
      "outputs": []
    },
    {
      "cell_type": "code",
      "source": [
        "stop_words"
      ],
      "metadata": {
        "colab": {
          "base_uri": "https://localhost:8080/"
        },
        "id": "ouahACRT3C3o",
        "outputId": "29981318-655d-4779-ce68-48fa1d579425"
      },
      "execution_count": null,
      "outputs": [
        {
          "output_type": "execute_result",
          "data": {
            "text/plain": [
              "{'a',\n",
              " 'about',\n",
              " 'above',\n",
              " 'after',\n",
              " 'again',\n",
              " 'against',\n",
              " 'ain',\n",
              " 'all',\n",
              " 'am',\n",
              " 'an',\n",
              " 'and',\n",
              " 'any',\n",
              " 'are',\n",
              " 'aren',\n",
              " \"aren't\",\n",
              " 'as',\n",
              " 'at',\n",
              " 'be',\n",
              " 'because',\n",
              " 'been',\n",
              " 'before',\n",
              " 'being',\n",
              " 'below',\n",
              " 'between',\n",
              " 'both',\n",
              " 'but',\n",
              " 'by',\n",
              " 'can',\n",
              " 'couldn',\n",
              " \"couldn't\",\n",
              " 'd',\n",
              " 'did',\n",
              " 'didn',\n",
              " \"didn't\",\n",
              " 'do',\n",
              " 'does',\n",
              " 'doesn',\n",
              " \"doesn't\",\n",
              " 'doing',\n",
              " 'don',\n",
              " \"don't\",\n",
              " 'down',\n",
              " 'during',\n",
              " 'each',\n",
              " 'few',\n",
              " 'for',\n",
              " 'from',\n",
              " 'further',\n",
              " 'had',\n",
              " 'hadn',\n",
              " \"hadn't\",\n",
              " 'has',\n",
              " 'hasn',\n",
              " \"hasn't\",\n",
              " 'have',\n",
              " 'haven',\n",
              " \"haven't\",\n",
              " 'having',\n",
              " 'he',\n",
              " 'her',\n",
              " 'here',\n",
              " 'hers',\n",
              " 'herself',\n",
              " 'him',\n",
              " 'himself',\n",
              " 'his',\n",
              " 'how',\n",
              " 'i',\n",
              " 'if',\n",
              " 'in',\n",
              " 'into',\n",
              " 'is',\n",
              " 'isn',\n",
              " \"isn't\",\n",
              " 'it',\n",
              " \"it's\",\n",
              " 'its',\n",
              " 'itself',\n",
              " 'just',\n",
              " 'll',\n",
              " 'm',\n",
              " 'ma',\n",
              " 'me',\n",
              " 'mightn',\n",
              " \"mightn't\",\n",
              " 'more',\n",
              " 'most',\n",
              " 'mustn',\n",
              " \"mustn't\",\n",
              " 'my',\n",
              " 'myself',\n",
              " 'needn',\n",
              " \"needn't\",\n",
              " 'no',\n",
              " 'nor',\n",
              " 'not',\n",
              " 'now',\n",
              " 'o',\n",
              " 'of',\n",
              " 'off',\n",
              " 'on',\n",
              " 'once',\n",
              " 'only',\n",
              " 'or',\n",
              " 'other',\n",
              " 'our',\n",
              " 'ours',\n",
              " 'ourselves',\n",
              " 'out',\n",
              " 'over',\n",
              " 'own',\n",
              " 're',\n",
              " 's',\n",
              " 'same',\n",
              " 'shan',\n",
              " \"shan't\",\n",
              " 'she',\n",
              " \"she's\",\n",
              " 'should',\n",
              " \"should've\",\n",
              " 'shouldn',\n",
              " \"shouldn't\",\n",
              " 'so',\n",
              " 'some',\n",
              " 'such',\n",
              " 't',\n",
              " 'than',\n",
              " 'that',\n",
              " \"that'll\",\n",
              " 'the',\n",
              " 'their',\n",
              " 'theirs',\n",
              " 'them',\n",
              " 'themselves',\n",
              " 'then',\n",
              " 'there',\n",
              " 'these',\n",
              " 'they',\n",
              " 'this',\n",
              " 'those',\n",
              " 'through',\n",
              " 'to',\n",
              " 'too',\n",
              " 'under',\n",
              " 'until',\n",
              " 'up',\n",
              " 've',\n",
              " 'very',\n",
              " 'was',\n",
              " 'wasn',\n",
              " \"wasn't\",\n",
              " 'we',\n",
              " 'were',\n",
              " 'weren',\n",
              " \"weren't\",\n",
              " 'what',\n",
              " 'when',\n",
              " 'where',\n",
              " 'which',\n",
              " 'while',\n",
              " 'who',\n",
              " 'whom',\n",
              " 'why',\n",
              " 'will',\n",
              " 'with',\n",
              " 'won',\n",
              " \"won't\",\n",
              " 'wouldn',\n",
              " \"wouldn't\",\n",
              " 'y',\n",
              " 'you',\n",
              " \"you'd\",\n",
              " \"you'll\",\n",
              " \"you're\",\n",
              " \"you've\",\n",
              " 'your',\n",
              " 'yours',\n",
              " 'yourself',\n",
              " 'yourselves'}"
            ]
          },
          "metadata": {},
          "execution_count": 71
        }
      ]
    },
    {
      "cell_type": "code",
      "source": [
        "\n",
        "def remove_stop(x):\n",
        "  return \",\".join([word for word in str(x).split() if word not in stop_words])\n",
        "df['description']= df['description'].apply(lambda x : remove_stop(x))"
      ],
      "metadata": {
        "id": "JTUNR0GW3C61"
      },
      "execution_count": null,
      "outputs": []
    },
    {
      "cell_type": "code",
      "source": [
        "df.head()"
      ],
      "metadata": {
        "colab": {
          "base_uri": "https://localhost:8080/",
          "height": 600
        },
        "id": "KyLqHPp73C96",
        "outputId": "d299189d-fba1-4af0-dd6e-18a70d9a2fdd"
      },
      "execution_count": null,
      "outputs": [
        {
          "output_type": "execute_result",
          "data": {
            "text/plain": [
              "         user_name             ratings  \\\n",
              "0   Kavyashree D N  5.0 out of 5 stars   \n",
              "1   Kavyashree D N  4.0 out of 5 stars   \n",
              "2   Kavyashree D N  5.0 out of 5 stars   \n",
              "3  Amazon Customer  4.0 out of 5 stars   \n",
              "4  Amazon Customer  1.0 out of 5 stars   \n",
              "\n",
              "                                             comment  \\\n",
              "0                                        Comfortable   \n",
              "1                                    Product is good   \n",
              "2                                       Best product   \n",
              "3  Good quality product...if want little loose go...   \n",
              "4        Hang after 7 days, defective piece received   \n",
              "\n",
              "                                    time user_product_description  \\\n",
              "0  Reviewed in India on 14 December 2022  Size: 5 UKColour: Black   \n",
              "1  Reviewed in India on 14 December 2022     Colour: BlackSize: M   \n",
              "2      Reviewed in India on 22 July 2022                      NaN   \n",
              "3   Reviewed in India on 3 November 2022      Colour: NavySize: L   \n",
              "4   Reviewed in India on 3 November 2022                      NaN   \n",
              "\n",
              "               state                                        description  \\\n",
              "0  Verified Purchase      give,nice,look,it’s,comfortable,me.,loved,it.   \n",
              "1  Verified Purchase  product,good,comfortable,giving,4,stars,packag...   \n",
              "2                NaN  quality,fine.,chain,stones,looking,bright,shin...   \n",
              "3  Verified Purchase  production,good,,better,value,money.,soft,,com...   \n",
              "4  Verified Purchase  even,moderate,user,still,hang,using,youtube,,a...   \n",
              "\n",
              "                                            user_URL  \\\n",
              "0  https://www.amazon.in/gp/profile/amzn1.account...   \n",
              "1  https://www.amazon.in/gp/profile/amzn1.account...   \n",
              "2  https://www.amazon.in/gp/profile/amzn1.account...   \n",
              "3  https://www.amazon.in/gp/profile/amzn1.account...   \n",
              "4  https://www.amazon.in/gp/profile/amzn1.account...   \n",
              "\n",
              "                                         product_URL  \n",
              "0  https://www.amazon.in/Womens-Stylish-Comfort-S...  \n",
              "1  https://www.amazon.in/Fort-Collins-Womens-Swea...  \n",
              "2  https://www.amazon.in/Jixara-Wearing-Necklace-...  \n",
              "3  https://www.amazon.in/Qube-Fort-Collins-Sweats...  \n",
              "4  https://www.amazon.in/OnePlus-Prime-128GB-Stor...  "
            ],
            "text/html": [
              "\n",
              "  <div id=\"df-d641edce-b363-414d-b820-9dbee299c040\">\n",
              "    <div class=\"colab-df-container\">\n",
              "      <div>\n",
              "<style scoped>\n",
              "    .dataframe tbody tr th:only-of-type {\n",
              "        vertical-align: middle;\n",
              "    }\n",
              "\n",
              "    .dataframe tbody tr th {\n",
              "        vertical-align: top;\n",
              "    }\n",
              "\n",
              "    .dataframe thead th {\n",
              "        text-align: right;\n",
              "    }\n",
              "</style>\n",
              "<table border=\"1\" class=\"dataframe\">\n",
              "  <thead>\n",
              "    <tr style=\"text-align: right;\">\n",
              "      <th></th>\n",
              "      <th>user_name</th>\n",
              "      <th>ratings</th>\n",
              "      <th>comment</th>\n",
              "      <th>time</th>\n",
              "      <th>user_product_description</th>\n",
              "      <th>state</th>\n",
              "      <th>description</th>\n",
              "      <th>user_URL</th>\n",
              "      <th>product_URL</th>\n",
              "    </tr>\n",
              "  </thead>\n",
              "  <tbody>\n",
              "    <tr>\n",
              "      <th>0</th>\n",
              "      <td>Kavyashree D N</td>\n",
              "      <td>5.0 out of 5 stars</td>\n",
              "      <td>Comfortable</td>\n",
              "      <td>Reviewed in India on 14 December 2022</td>\n",
              "      <td>Size: 5 UKColour: Black</td>\n",
              "      <td>Verified Purchase</td>\n",
              "      <td>give,nice,look,it’s,comfortable,me.,loved,it.</td>\n",
              "      <td>https://www.amazon.in/gp/profile/amzn1.account...</td>\n",
              "      <td>https://www.amazon.in/Womens-Stylish-Comfort-S...</td>\n",
              "    </tr>\n",
              "    <tr>\n",
              "      <th>1</th>\n",
              "      <td>Kavyashree D N</td>\n",
              "      <td>4.0 out of 5 stars</td>\n",
              "      <td>Product is good</td>\n",
              "      <td>Reviewed in India on 14 December 2022</td>\n",
              "      <td>Colour: BlackSize: M</td>\n",
              "      <td>Verified Purchase</td>\n",
              "      <td>product,good,comfortable,giving,4,stars,packag...</td>\n",
              "      <td>https://www.amazon.in/gp/profile/amzn1.account...</td>\n",
              "      <td>https://www.amazon.in/Fort-Collins-Womens-Swea...</td>\n",
              "    </tr>\n",
              "    <tr>\n",
              "      <th>2</th>\n",
              "      <td>Kavyashree D N</td>\n",
              "      <td>5.0 out of 5 stars</td>\n",
              "      <td>Best product</td>\n",
              "      <td>Reviewed in India on 22 July 2022</td>\n",
              "      <td>NaN</td>\n",
              "      <td>NaN</td>\n",
              "      <td>quality,fine.,chain,stones,looking,bright,shin...</td>\n",
              "      <td>https://www.amazon.in/gp/profile/amzn1.account...</td>\n",
              "      <td>https://www.amazon.in/Jixara-Wearing-Necklace-...</td>\n",
              "    </tr>\n",
              "    <tr>\n",
              "      <th>3</th>\n",
              "      <td>Amazon Customer</td>\n",
              "      <td>4.0 out of 5 stars</td>\n",
              "      <td>Good quality product...if want little loose go...</td>\n",
              "      <td>Reviewed in India on 3 November 2022</td>\n",
              "      <td>Colour: NavySize: L</td>\n",
              "      <td>Verified Purchase</td>\n",
              "      <td>production,good,,better,value,money.,soft,,com...</td>\n",
              "      <td>https://www.amazon.in/gp/profile/amzn1.account...</td>\n",
              "      <td>https://www.amazon.in/Qube-Fort-Collins-Sweats...</td>\n",
              "    </tr>\n",
              "    <tr>\n",
              "      <th>4</th>\n",
              "      <td>Amazon Customer</td>\n",
              "      <td>1.0 out of 5 stars</td>\n",
              "      <td>Hang after 7 days, defective piece received</td>\n",
              "      <td>Reviewed in India on 3 November 2022</td>\n",
              "      <td>NaN</td>\n",
              "      <td>Verified Purchase</td>\n",
              "      <td>even,moderate,user,still,hang,using,youtube,,a...</td>\n",
              "      <td>https://www.amazon.in/gp/profile/amzn1.account...</td>\n",
              "      <td>https://www.amazon.in/OnePlus-Prime-128GB-Stor...</td>\n",
              "    </tr>\n",
              "  </tbody>\n",
              "</table>\n",
              "</div>\n",
              "      <button class=\"colab-df-convert\" onclick=\"convertToInteractive('df-d641edce-b363-414d-b820-9dbee299c040')\"\n",
              "              title=\"Convert this dataframe to an interactive table.\"\n",
              "              style=\"display:none;\">\n",
              "        \n",
              "  <svg xmlns=\"http://www.w3.org/2000/svg\" height=\"24px\"viewBox=\"0 0 24 24\"\n",
              "       width=\"24px\">\n",
              "    <path d=\"M0 0h24v24H0V0z\" fill=\"none\"/>\n",
              "    <path d=\"M18.56 5.44l.94 2.06.94-2.06 2.06-.94-2.06-.94-.94-2.06-.94 2.06-2.06.94zm-11 1L8.5 8.5l.94-2.06 2.06-.94-2.06-.94L8.5 2.5l-.94 2.06-2.06.94zm10 10l.94 2.06.94-2.06 2.06-.94-2.06-.94-.94-2.06-.94 2.06-2.06.94z\"/><path d=\"M17.41 7.96l-1.37-1.37c-.4-.4-.92-.59-1.43-.59-.52 0-1.04.2-1.43.59L10.3 9.45l-7.72 7.72c-.78.78-.78 2.05 0 2.83L4 21.41c.39.39.9.59 1.41.59.51 0 1.02-.2 1.41-.59l7.78-7.78 2.81-2.81c.8-.78.8-2.07 0-2.86zM5.41 20L4 18.59l7.72-7.72 1.47 1.35L5.41 20z\"/>\n",
              "  </svg>\n",
              "      </button>\n",
              "      \n",
              "  <style>\n",
              "    .colab-df-container {\n",
              "      display:flex;\n",
              "      flex-wrap:wrap;\n",
              "      gap: 12px;\n",
              "    }\n",
              "\n",
              "    .colab-df-convert {\n",
              "      background-color: #E8F0FE;\n",
              "      border: none;\n",
              "      border-radius: 50%;\n",
              "      cursor: pointer;\n",
              "      display: none;\n",
              "      fill: #1967D2;\n",
              "      height: 32px;\n",
              "      padding: 0 0 0 0;\n",
              "      width: 32px;\n",
              "    }\n",
              "\n",
              "    .colab-df-convert:hover {\n",
              "      background-color: #E2EBFA;\n",
              "      box-shadow: 0px 1px 2px rgba(60, 64, 67, 0.3), 0px 1px 3px 1px rgba(60, 64, 67, 0.15);\n",
              "      fill: #174EA6;\n",
              "    }\n",
              "\n",
              "    [theme=dark] .colab-df-convert {\n",
              "      background-color: #3B4455;\n",
              "      fill: #D2E3FC;\n",
              "    }\n",
              "\n",
              "    [theme=dark] .colab-df-convert:hover {\n",
              "      background-color: #434B5C;\n",
              "      box-shadow: 0px 1px 3px 1px rgba(0, 0, 0, 0.15);\n",
              "      filter: drop-shadow(0px 1px 2px rgba(0, 0, 0, 0.3));\n",
              "      fill: #FFFFFF;\n",
              "    }\n",
              "  </style>\n",
              "\n",
              "      <script>\n",
              "        const buttonEl =\n",
              "          document.querySelector('#df-d641edce-b363-414d-b820-9dbee299c040 button.colab-df-convert');\n",
              "        buttonEl.style.display =\n",
              "          google.colab.kernel.accessAllowed ? 'block' : 'none';\n",
              "\n",
              "        async function convertToInteractive(key) {\n",
              "          const element = document.querySelector('#df-d641edce-b363-414d-b820-9dbee299c040');\n",
              "          const dataTable =\n",
              "            await google.colab.kernel.invokeFunction('convertToInteractive',\n",
              "                                                     [key], {});\n",
              "          if (!dataTable) return;\n",
              "\n",
              "          const docLinkHtml = 'Like what you see? Visit the ' +\n",
              "            '<a target=\"_blank\" href=https://colab.research.google.com/notebooks/data_table.ipynb>data table notebook</a>'\n",
              "            + ' to learn more about interactive tables.';\n",
              "          element.innerHTML = '';\n",
              "          dataTable['output_type'] = 'display_data';\n",
              "          await google.colab.output.renderOutput(dataTable, element);\n",
              "          const docLink = document.createElement('div');\n",
              "          docLink.innerHTML = docLinkHtml;\n",
              "          element.appendChild(docLink);\n",
              "        }\n",
              "      </script>\n",
              "    </div>\n",
              "  </div>\n",
              "  "
            ]
          },
          "metadata": {},
          "execution_count": 73
        }
      ]
    },
    {
      "cell_type": "code",
      "source": [
        "df['description\t']= df['description'].apply(lambda x : \" \".join(x.lower() for x in x.split()))"
      ],
      "metadata": {
        "id": "LhyJoxz13DBR"
      },
      "execution_count": null,
      "outputs": []
    },
    {
      "cell_type": "code",
      "source": [
        "df"
      ],
      "metadata": {
        "colab": {
          "base_uri": "https://localhost:8080/",
          "height": 1000
        },
        "id": "_Wxjru423DEc",
        "outputId": "880601a8-9aa0-4981-d2e9-4f75d6506920"
      },
      "execution_count": null,
      "outputs": [
        {
          "output_type": "execute_result",
          "data": {
            "text/plain": [
              "           user_name             ratings  \\\n",
              "0     Kavyashree D N  5.0 out of 5 stars   \n",
              "1     Kavyashree D N  4.0 out of 5 stars   \n",
              "2     Kavyashree D N  5.0 out of 5 stars   \n",
              "3    Amazon Customer  4.0 out of 5 stars   \n",
              "4    Amazon Customer  1.0 out of 5 stars   \n",
              "..               ...                 ...   \n",
              "187          Emm Kay  5.0 out of 5 stars   \n",
              "188          Emm Kay  5.0 out of 5 stars   \n",
              "189    Swathi Kancha  5.0 out of 5 stars   \n",
              "190    Swathi Kancha  2.0 out of 5 stars   \n",
              "191    Swathi Kancha  5.0 out of 5 stars   \n",
              "\n",
              "                                               comment  \\\n",
              "0                                          Comfortable   \n",
              "1                                      Product is good   \n",
              "2                                         Best product   \n",
              "3    Good quality product...if want little loose go...   \n",
              "4          Hang after 7 days, defective piece received   \n",
              "..                                                 ...   \n",
              "187                                      Honest Review   \n",
              "188                                      Honest review   \n",
              "189                             Awesome !! Beautiful 😍   \n",
              "190                               Broken within a week   \n",
              "191                                          Very cute   \n",
              "\n",
              "                                      time  \\\n",
              "0    Reviewed in India on 14 December 2022   \n",
              "1    Reviewed in India on 14 December 2022   \n",
              "2        Reviewed in India on 22 July 2022   \n",
              "3     Reviewed in India on 3 November 2022   \n",
              "4     Reviewed in India on 3 November 2022   \n",
              "..                                     ...   \n",
              "187      Reviewed in India on 31 July 2022   \n",
              "188      Reviewed in India on 11 June 2021   \n",
              "189   Reviewed in India on 22 October 2022   \n",
              "190     Reviewed in India on 4 August 2021   \n",
              "191     Reviewed in India on 4 August 2021   \n",
              "\n",
              "                              user_product_description              state  \\\n",
              "0                              Size: 5 UKColour: Black  Verified Purchase   \n",
              "1                                 Colour: BlackSize: M  Verified Purchase   \n",
              "2                                                  NaN                NaN   \n",
              "3                                  Colour: NavySize: L  Verified Purchase   \n",
              "4                                                  NaN  Verified Purchase   \n",
              "..                                                 ...                ...   \n",
              "187                                                NaN  Verified Purchase   \n",
              "188                                  Size: 2 x 1 Meter  Verified Purchase   \n",
              "189  Colour: Indian OdysseySize: Pack of 2-Door - 7...  Verified Purchase   \n",
              "190                                                NaN  Verified Purchase   \n",
              "191                                                NaN  Verified Purchase   \n",
              "\n",
              "                                           description  \\\n",
              "0        give,nice,look,it’s,comfortable,me.,loved,it.   \n",
              "1    product,good,comfortable,giving,4,stars,packag...   \n",
              "2    quality,fine.,chain,stones,looking,bright,shin...   \n",
              "3    production,good,,better,value,money.,soft,,com...   \n",
              "4    even,moderate,user,still,hang,using,youtube,,a...   \n",
              "..                                                 ...   \n",
              "187  using,product,since,childhood,useful,minor,cut...   \n",
              "188  using,product,filter,drinking,water,works,well...   \n",
              "189                            material,design,good,!!   \n",
              "190                  looked,good,broke,within,one,week   \n",
              "191                          cute,ones,..,careful,drop   \n",
              "\n",
              "                                              user_URL  \\\n",
              "0    https://www.amazon.in/gp/profile/amzn1.account...   \n",
              "1    https://www.amazon.in/gp/profile/amzn1.account...   \n",
              "2    https://www.amazon.in/gp/profile/amzn1.account...   \n",
              "3    https://www.amazon.in/gp/profile/amzn1.account...   \n",
              "4    https://www.amazon.in/gp/profile/amzn1.account...   \n",
              "..                                                 ...   \n",
              "187  https://www.amazon.in/gp/profile/amzn1.account...   \n",
              "188  https://www.amazon.in/gp/profile/amzn1.account...   \n",
              "189  https://www.amazon.in/gp/profile/amzn1.account...   \n",
              "190  https://www.amazon.in/gp/profile/amzn1.account...   \n",
              "191  https://www.amazon.in/gp/profile/amzn1.account...   \n",
              "\n",
              "                                           product_URL  \\\n",
              "0    https://www.amazon.in/Womens-Stylish-Comfort-S...   \n",
              "1    https://www.amazon.in/Fort-Collins-Womens-Swea...   \n",
              "2    https://www.amazon.in/Jixara-Wearing-Necklace-...   \n",
              "3    https://www.amazon.in/Qube-Fort-Collins-Sweats...   \n",
              "4    https://www.amazon.in/OnePlus-Prime-128GB-Stor...   \n",
              "..                                                 ...   \n",
              "187  https://www.amazon.in/Vicco-Turmeric-Skin-Valu...   \n",
              "188  https://www.amazon.in/Clarkia-Professional-Cot...   \n",
              "189  https://www.amazon.in/Urban-Space-Blackout-Cur...   \n",
              "190  https://www.amazon.in/Kmils-Washing-Cleaning-S...   \n",
              "191  https://www.amazon.in/Shree-Ganesh-Enterprises...   \n",
              "\n",
              "                                         description\\t  \n",
              "0        give,nice,look,it’s,comfortable,me.,loved,it.  \n",
              "1    product,good,comfortable,giving,4,stars,packag...  \n",
              "2    quality,fine.,chain,stones,looking,bright,shin...  \n",
              "3    production,good,,better,value,money.,soft,,com...  \n",
              "4    even,moderate,user,still,hang,using,youtube,,a...  \n",
              "..                                                 ...  \n",
              "187  using,product,since,childhood,useful,minor,cut...  \n",
              "188  using,product,filter,drinking,water,works,well...  \n",
              "189                            material,design,good,!!  \n",
              "190                  looked,good,broke,within,one,week  \n",
              "191                          cute,ones,..,careful,drop  \n",
              "\n",
              "[192 rows x 10 columns]"
            ],
            "text/html": [
              "\n",
              "  <div id=\"df-9d967d74-247d-44a3-9858-6de49752382b\">\n",
              "    <div class=\"colab-df-container\">\n",
              "      <div>\n",
              "<style scoped>\n",
              "    .dataframe tbody tr th:only-of-type {\n",
              "        vertical-align: middle;\n",
              "    }\n",
              "\n",
              "    .dataframe tbody tr th {\n",
              "        vertical-align: top;\n",
              "    }\n",
              "\n",
              "    .dataframe thead th {\n",
              "        text-align: right;\n",
              "    }\n",
              "</style>\n",
              "<table border=\"1\" class=\"dataframe\">\n",
              "  <thead>\n",
              "    <tr style=\"text-align: right;\">\n",
              "      <th></th>\n",
              "      <th>user_name</th>\n",
              "      <th>ratings</th>\n",
              "      <th>comment</th>\n",
              "      <th>time</th>\n",
              "      <th>user_product_description</th>\n",
              "      <th>state</th>\n",
              "      <th>description</th>\n",
              "      <th>user_URL</th>\n",
              "      <th>product_URL</th>\n",
              "      <th>description\\t</th>\n",
              "    </tr>\n",
              "  </thead>\n",
              "  <tbody>\n",
              "    <tr>\n",
              "      <th>0</th>\n",
              "      <td>Kavyashree D N</td>\n",
              "      <td>5.0 out of 5 stars</td>\n",
              "      <td>Comfortable</td>\n",
              "      <td>Reviewed in India on 14 December 2022</td>\n",
              "      <td>Size: 5 UKColour: Black</td>\n",
              "      <td>Verified Purchase</td>\n",
              "      <td>give,nice,look,it’s,comfortable,me.,loved,it.</td>\n",
              "      <td>https://www.amazon.in/gp/profile/amzn1.account...</td>\n",
              "      <td>https://www.amazon.in/Womens-Stylish-Comfort-S...</td>\n",
              "      <td>give,nice,look,it’s,comfortable,me.,loved,it.</td>\n",
              "    </tr>\n",
              "    <tr>\n",
              "      <th>1</th>\n",
              "      <td>Kavyashree D N</td>\n",
              "      <td>4.0 out of 5 stars</td>\n",
              "      <td>Product is good</td>\n",
              "      <td>Reviewed in India on 14 December 2022</td>\n",
              "      <td>Colour: BlackSize: M</td>\n",
              "      <td>Verified Purchase</td>\n",
              "      <td>product,good,comfortable,giving,4,stars,packag...</td>\n",
              "      <td>https://www.amazon.in/gp/profile/amzn1.account...</td>\n",
              "      <td>https://www.amazon.in/Fort-Collins-Womens-Swea...</td>\n",
              "      <td>product,good,comfortable,giving,4,stars,packag...</td>\n",
              "    </tr>\n",
              "    <tr>\n",
              "      <th>2</th>\n",
              "      <td>Kavyashree D N</td>\n",
              "      <td>5.0 out of 5 stars</td>\n",
              "      <td>Best product</td>\n",
              "      <td>Reviewed in India on 22 July 2022</td>\n",
              "      <td>NaN</td>\n",
              "      <td>NaN</td>\n",
              "      <td>quality,fine.,chain,stones,looking,bright,shin...</td>\n",
              "      <td>https://www.amazon.in/gp/profile/amzn1.account...</td>\n",
              "      <td>https://www.amazon.in/Jixara-Wearing-Necklace-...</td>\n",
              "      <td>quality,fine.,chain,stones,looking,bright,shin...</td>\n",
              "    </tr>\n",
              "    <tr>\n",
              "      <th>3</th>\n",
              "      <td>Amazon Customer</td>\n",
              "      <td>4.0 out of 5 stars</td>\n",
              "      <td>Good quality product...if want little loose go...</td>\n",
              "      <td>Reviewed in India on 3 November 2022</td>\n",
              "      <td>Colour: NavySize: L</td>\n",
              "      <td>Verified Purchase</td>\n",
              "      <td>production,good,,better,value,money.,soft,,com...</td>\n",
              "      <td>https://www.amazon.in/gp/profile/amzn1.account...</td>\n",
              "      <td>https://www.amazon.in/Qube-Fort-Collins-Sweats...</td>\n",
              "      <td>production,good,,better,value,money.,soft,,com...</td>\n",
              "    </tr>\n",
              "    <tr>\n",
              "      <th>4</th>\n",
              "      <td>Amazon Customer</td>\n",
              "      <td>1.0 out of 5 stars</td>\n",
              "      <td>Hang after 7 days, defective piece received</td>\n",
              "      <td>Reviewed in India on 3 November 2022</td>\n",
              "      <td>NaN</td>\n",
              "      <td>Verified Purchase</td>\n",
              "      <td>even,moderate,user,still,hang,using,youtube,,a...</td>\n",
              "      <td>https://www.amazon.in/gp/profile/amzn1.account...</td>\n",
              "      <td>https://www.amazon.in/OnePlus-Prime-128GB-Stor...</td>\n",
              "      <td>even,moderate,user,still,hang,using,youtube,,a...</td>\n",
              "    </tr>\n",
              "    <tr>\n",
              "      <th>...</th>\n",
              "      <td>...</td>\n",
              "      <td>...</td>\n",
              "      <td>...</td>\n",
              "      <td>...</td>\n",
              "      <td>...</td>\n",
              "      <td>...</td>\n",
              "      <td>...</td>\n",
              "      <td>...</td>\n",
              "      <td>...</td>\n",
              "      <td>...</td>\n",
              "    </tr>\n",
              "    <tr>\n",
              "      <th>187</th>\n",
              "      <td>Emm Kay</td>\n",
              "      <td>5.0 out of 5 stars</td>\n",
              "      <td>Honest Review</td>\n",
              "      <td>Reviewed in India on 31 July 2022</td>\n",
              "      <td>NaN</td>\n",
              "      <td>Verified Purchase</td>\n",
              "      <td>using,product,since,childhood,useful,minor,cut...</td>\n",
              "      <td>https://www.amazon.in/gp/profile/amzn1.account...</td>\n",
              "      <td>https://www.amazon.in/Vicco-Turmeric-Skin-Valu...</td>\n",
              "      <td>using,product,since,childhood,useful,minor,cut...</td>\n",
              "    </tr>\n",
              "    <tr>\n",
              "      <th>188</th>\n",
              "      <td>Emm Kay</td>\n",
              "      <td>5.0 out of 5 stars</td>\n",
              "      <td>Honest review</td>\n",
              "      <td>Reviewed in India on 11 June 2021</td>\n",
              "      <td>Size: 2 x 1 Meter</td>\n",
              "      <td>Verified Purchase</td>\n",
              "      <td>using,product,filter,drinking,water,works,well...</td>\n",
              "      <td>https://www.amazon.in/gp/profile/amzn1.account...</td>\n",
              "      <td>https://www.amazon.in/Clarkia-Professional-Cot...</td>\n",
              "      <td>using,product,filter,drinking,water,works,well...</td>\n",
              "    </tr>\n",
              "    <tr>\n",
              "      <th>189</th>\n",
              "      <td>Swathi Kancha</td>\n",
              "      <td>5.0 out of 5 stars</td>\n",
              "      <td>Awesome !! Beautiful 😍</td>\n",
              "      <td>Reviewed in India on 22 October 2022</td>\n",
              "      <td>Colour: Indian OdysseySize: Pack of 2-Door - 7...</td>\n",
              "      <td>Verified Purchase</td>\n",
              "      <td>material,design,good,!!</td>\n",
              "      <td>https://www.amazon.in/gp/profile/amzn1.account...</td>\n",
              "      <td>https://www.amazon.in/Urban-Space-Blackout-Cur...</td>\n",
              "      <td>material,design,good,!!</td>\n",
              "    </tr>\n",
              "    <tr>\n",
              "      <th>190</th>\n",
              "      <td>Swathi Kancha</td>\n",
              "      <td>2.0 out of 5 stars</td>\n",
              "      <td>Broken within a week</td>\n",
              "      <td>Reviewed in India on 4 August 2021</td>\n",
              "      <td>NaN</td>\n",
              "      <td>Verified Purchase</td>\n",
              "      <td>looked,good,broke,within,one,week</td>\n",
              "      <td>https://www.amazon.in/gp/profile/amzn1.account...</td>\n",
              "      <td>https://www.amazon.in/Kmils-Washing-Cleaning-S...</td>\n",
              "      <td>looked,good,broke,within,one,week</td>\n",
              "    </tr>\n",
              "    <tr>\n",
              "      <th>191</th>\n",
              "      <td>Swathi Kancha</td>\n",
              "      <td>5.0 out of 5 stars</td>\n",
              "      <td>Very cute</td>\n",
              "      <td>Reviewed in India on 4 August 2021</td>\n",
              "      <td>NaN</td>\n",
              "      <td>Verified Purchase</td>\n",
              "      <td>cute,ones,..,careful,drop</td>\n",
              "      <td>https://www.amazon.in/gp/profile/amzn1.account...</td>\n",
              "      <td>https://www.amazon.in/Shree-Ganesh-Enterprises...</td>\n",
              "      <td>cute,ones,..,careful,drop</td>\n",
              "    </tr>\n",
              "  </tbody>\n",
              "</table>\n",
              "<p>192 rows × 10 columns</p>\n",
              "</div>\n",
              "      <button class=\"colab-df-convert\" onclick=\"convertToInteractive('df-9d967d74-247d-44a3-9858-6de49752382b')\"\n",
              "              title=\"Convert this dataframe to an interactive table.\"\n",
              "              style=\"display:none;\">\n",
              "        \n",
              "  <svg xmlns=\"http://www.w3.org/2000/svg\" height=\"24px\"viewBox=\"0 0 24 24\"\n",
              "       width=\"24px\">\n",
              "    <path d=\"M0 0h24v24H0V0z\" fill=\"none\"/>\n",
              "    <path d=\"M18.56 5.44l.94 2.06.94-2.06 2.06-.94-2.06-.94-.94-2.06-.94 2.06-2.06.94zm-11 1L8.5 8.5l.94-2.06 2.06-.94-2.06-.94L8.5 2.5l-.94 2.06-2.06.94zm10 10l.94 2.06.94-2.06 2.06-.94-2.06-.94-.94-2.06-.94 2.06-2.06.94z\"/><path d=\"M17.41 7.96l-1.37-1.37c-.4-.4-.92-.59-1.43-.59-.52 0-1.04.2-1.43.59L10.3 9.45l-7.72 7.72c-.78.78-.78 2.05 0 2.83L4 21.41c.39.39.9.59 1.41.59.51 0 1.02-.2 1.41-.59l7.78-7.78 2.81-2.81c.8-.78.8-2.07 0-2.86zM5.41 20L4 18.59l7.72-7.72 1.47 1.35L5.41 20z\"/>\n",
              "  </svg>\n",
              "      </button>\n",
              "      \n",
              "  <style>\n",
              "    .colab-df-container {\n",
              "      display:flex;\n",
              "      flex-wrap:wrap;\n",
              "      gap: 12px;\n",
              "    }\n",
              "\n",
              "    .colab-df-convert {\n",
              "      background-color: #E8F0FE;\n",
              "      border: none;\n",
              "      border-radius: 50%;\n",
              "      cursor: pointer;\n",
              "      display: none;\n",
              "      fill: #1967D2;\n",
              "      height: 32px;\n",
              "      padding: 0 0 0 0;\n",
              "      width: 32px;\n",
              "    }\n",
              "\n",
              "    .colab-df-convert:hover {\n",
              "      background-color: #E2EBFA;\n",
              "      box-shadow: 0px 1px 2px rgba(60, 64, 67, 0.3), 0px 1px 3px 1px rgba(60, 64, 67, 0.15);\n",
              "      fill: #174EA6;\n",
              "    }\n",
              "\n",
              "    [theme=dark] .colab-df-convert {\n",
              "      background-color: #3B4455;\n",
              "      fill: #D2E3FC;\n",
              "    }\n",
              "\n",
              "    [theme=dark] .colab-df-convert:hover {\n",
              "      background-color: #434B5C;\n",
              "      box-shadow: 0px 1px 3px 1px rgba(0, 0, 0, 0.15);\n",
              "      filter: drop-shadow(0px 1px 2px rgba(0, 0, 0, 0.3));\n",
              "      fill: #FFFFFF;\n",
              "    }\n",
              "  </style>\n",
              "\n",
              "      <script>\n",
              "        const buttonEl =\n",
              "          document.querySelector('#df-9d967d74-247d-44a3-9858-6de49752382b button.colab-df-convert');\n",
              "        buttonEl.style.display =\n",
              "          google.colab.kernel.accessAllowed ? 'block' : 'none';\n",
              "\n",
              "        async function convertToInteractive(key) {\n",
              "          const element = document.querySelector('#df-9d967d74-247d-44a3-9858-6de49752382b');\n",
              "          const dataTable =\n",
              "            await google.colab.kernel.invokeFunction('convertToInteractive',\n",
              "                                                     [key], {});\n",
              "          if (!dataTable) return;\n",
              "\n",
              "          const docLinkHtml = 'Like what you see? Visit the ' +\n",
              "            '<a target=\"_blank\" href=https://colab.research.google.com/notebooks/data_table.ipynb>data table notebook</a>'\n",
              "            + ' to learn more about interactive tables.';\n",
              "          element.innerHTML = '';\n",
              "          dataTable['output_type'] = 'display_data';\n",
              "          await google.colab.output.renderOutput(dataTable, element);\n",
              "          const docLink = document.createElement('div');\n",
              "          docLink.innerHTML = docLinkHtml;\n",
              "          element.appendChild(docLink);\n",
              "        }\n",
              "      </script>\n",
              "    </div>\n",
              "  </div>\n",
              "  "
            ]
          },
          "metadata": {},
          "execution_count": 75
        }
      ]
    },
    {
      "cell_type": "markdown",
      "source": [
        "Remove punctuation"
      ],
      "metadata": {
        "id": "Qlqkq7L-aoyx"
      }
    },
    {
      "cell_type": "code",
      "source": [
        "df['description']=df['description'].str.replace('[^\\w\\s]', '')"
      ],
      "metadata": {
        "colab": {
          "base_uri": "https://localhost:8080/"
        },
        "id": "qrMSD-IE3DH5",
        "outputId": "d0d45ab1-c251-4c51-eb2e-8c2970a7ffa0"
      },
      "execution_count": null,
      "outputs": [
        {
          "output_type": "stream",
          "name": "stderr",
          "text": [
            "<ipython-input-76-1cc21fbebfcd>:1: FutureWarning: The default value of regex will change from True to False in a future version.\n",
            "  df['description']=df['description'].str.replace('[^\\w\\s]', '')\n"
          ]
        }
      ]
    },
    {
      "cell_type": "code",
      "source": [
        "print(df)"
      ],
      "metadata": {
        "colab": {
          "base_uri": "https://localhost:8080/"
        },
        "id": "OKIa71Qs3DK6",
        "outputId": "eeb43696-5071-4d35-f6ae-f769b812849c"
      },
      "execution_count": null,
      "outputs": [
        {
          "output_type": "stream",
          "name": "stdout",
          "text": [
            "           user_name             ratings  \\\n",
            "0     Kavyashree D N  5.0 out of 5 stars   \n",
            "1     Kavyashree D N  4.0 out of 5 stars   \n",
            "2     Kavyashree D N  5.0 out of 5 stars   \n",
            "3    Amazon Customer  4.0 out of 5 stars   \n",
            "4    Amazon Customer  1.0 out of 5 stars   \n",
            "..               ...                 ...   \n",
            "187          Emm Kay  5.0 out of 5 stars   \n",
            "188          Emm Kay  5.0 out of 5 stars   \n",
            "189    Swathi Kancha  5.0 out of 5 stars   \n",
            "190    Swathi Kancha  2.0 out of 5 stars   \n",
            "191    Swathi Kancha  5.0 out of 5 stars   \n",
            "\n",
            "                                               comment  \\\n",
            "0                                          Comfortable   \n",
            "1                                      Product is good   \n",
            "2                                         Best product   \n",
            "3    Good quality product...if want little loose go...   \n",
            "4          Hang after 7 days, defective piece received   \n",
            "..                                                 ...   \n",
            "187                                      Honest Review   \n",
            "188                                      Honest review   \n",
            "189                             Awesome !! Beautiful 😍   \n",
            "190                               Broken within a week   \n",
            "191                                          Very cute   \n",
            "\n",
            "                                      time  \\\n",
            "0    Reviewed in India on 14 December 2022   \n",
            "1    Reviewed in India on 14 December 2022   \n",
            "2        Reviewed in India on 22 July 2022   \n",
            "3     Reviewed in India on 3 November 2022   \n",
            "4     Reviewed in India on 3 November 2022   \n",
            "..                                     ...   \n",
            "187      Reviewed in India on 31 July 2022   \n",
            "188      Reviewed in India on 11 June 2021   \n",
            "189   Reviewed in India on 22 October 2022   \n",
            "190     Reviewed in India on 4 August 2021   \n",
            "191     Reviewed in India on 4 August 2021   \n",
            "\n",
            "                              user_product_description              state  \\\n",
            "0                              Size: 5 UKColour: Black  Verified Purchase   \n",
            "1                                 Colour: BlackSize: M  Verified Purchase   \n",
            "2                                                  NaN                NaN   \n",
            "3                                  Colour: NavySize: L  Verified Purchase   \n",
            "4                                                  NaN  Verified Purchase   \n",
            "..                                                 ...                ...   \n",
            "187                                                NaN  Verified Purchase   \n",
            "188                                  Size: 2 x 1 Meter  Verified Purchase   \n",
            "189  Colour: Indian OdysseySize: Pack of 2-Door - 7...  Verified Purchase   \n",
            "190                                                NaN  Verified Purchase   \n",
            "191                                                NaN  Verified Purchase   \n",
            "\n",
            "                                           description  \\\n",
            "0                  givenicelookitscomfortablemelovedit   \n",
            "1    productgoodcomfortablegiving4starspackagingpac...   \n",
            "2    qualityfinechainstoneslookingbrightshinythepro...   \n",
            "3    productiongoodbettervaluemoneysoftcomfortlight...   \n",
            "4    evenmoderateuserstillhangusingyoutubeamazonmyn...   \n",
            "..                                                 ...   \n",
            "187  usingproductsincechildhoodusefulminorcutsevend...   \n",
            "188  usingproductfilterdrinkingwaterworkswellthread...   \n",
            "189                                 materialdesigngood   \n",
            "190                       lookedgoodbrokewithinoneweek   \n",
            "191                                cuteonescarefuldrop   \n",
            "\n",
            "                                              user_URL  \\\n",
            "0    https://www.amazon.in/gp/profile/amzn1.account...   \n",
            "1    https://www.amazon.in/gp/profile/amzn1.account...   \n",
            "2    https://www.amazon.in/gp/profile/amzn1.account...   \n",
            "3    https://www.amazon.in/gp/profile/amzn1.account...   \n",
            "4    https://www.amazon.in/gp/profile/amzn1.account...   \n",
            "..                                                 ...   \n",
            "187  https://www.amazon.in/gp/profile/amzn1.account...   \n",
            "188  https://www.amazon.in/gp/profile/amzn1.account...   \n",
            "189  https://www.amazon.in/gp/profile/amzn1.account...   \n",
            "190  https://www.amazon.in/gp/profile/amzn1.account...   \n",
            "191  https://www.amazon.in/gp/profile/amzn1.account...   \n",
            "\n",
            "                                           product_URL  \\\n",
            "0    https://www.amazon.in/Womens-Stylish-Comfort-S...   \n",
            "1    https://www.amazon.in/Fort-Collins-Womens-Swea...   \n",
            "2    https://www.amazon.in/Jixara-Wearing-Necklace-...   \n",
            "3    https://www.amazon.in/Qube-Fort-Collins-Sweats...   \n",
            "4    https://www.amazon.in/OnePlus-Prime-128GB-Stor...   \n",
            "..                                                 ...   \n",
            "187  https://www.amazon.in/Vicco-Turmeric-Skin-Valu...   \n",
            "188  https://www.amazon.in/Clarkia-Professional-Cot...   \n",
            "189  https://www.amazon.in/Urban-Space-Blackout-Cur...   \n",
            "190  https://www.amazon.in/Kmils-Washing-Cleaning-S...   \n",
            "191  https://www.amazon.in/Shree-Ganesh-Enterprises...   \n",
            "\n",
            "                                         description\\t  \n",
            "0        give,nice,look,it’s,comfortable,me.,loved,it.  \n",
            "1    product,good,comfortable,giving,4,stars,packag...  \n",
            "2    quality,fine.,chain,stones,looking,bright,shin...  \n",
            "3    production,good,,better,value,money.,soft,,com...  \n",
            "4    even,moderate,user,still,hang,using,youtube,,a...  \n",
            "..                                                 ...  \n",
            "187  using,product,since,childhood,useful,minor,cut...  \n",
            "188  using,product,filter,drinking,water,works,well...  \n",
            "189                            material,design,good,!!  \n",
            "190                  looked,good,broke,within,one,week  \n",
            "191                          cute,ones,..,careful,drop  \n",
            "\n",
            "[192 rows x 10 columns]\n"
          ]
        }
      ]
    },
    {
      "cell_type": "code",
      "source": [],
      "metadata": {
        "id": "D_KU93WT3DN1"
      },
      "execution_count": null,
      "outputs": []
    },
    {
      "cell_type": "markdown",
      "source": [
        "EDA"
      ],
      "metadata": {
        "id": "pZNxe7AxgqO9"
      }
    },
    {
      "cell_type": "code",
      "source": [
        "#%matplotlib ipympl\n",
        "\n",
        "import matplotlib.pyplot as plt"
      ],
      "metadata": {
        "id": "wMtykMzwiOoS"
      },
      "execution_count": null,
      "outputs": []
    },
    {
      "cell_type": "code",
      "source": [
        "ax = df['ratings'].value_counts().sort_index() \\\n",
        "    .plot(kind='bar', title = 'Count of Reviews by stars', figsize=(10,5))\n",
        "ax.set_xlabel(\"Review Stars\")\n",
        "plt.show()"
      ],
      "metadata": {
        "colab": {
          "base_uri": "https://localhost:8080/",
          "height": 429
        },
        "id": "JPRduSyl3DRA",
        "outputId": "bc56d52c-a25d-4e37-f365-27a0aedc7416"
      },
      "execution_count": null,
      "outputs": [
        {
          "output_type": "display_data",
          "data": {
            "text/plain": [
              "<Figure size 720x360 with 1 Axes>"
            ],
            "image/png": "[encoded data removed]"
          },
          "metadata": {}
        }
      ]
    },
    {
      "cell_type": "code",
      "source": [
        "# Basic nltk\n",
        "\n",
        "example = df['description'][50]\n",
        "print(example)"
      ],
      "metadata": {
        "colab": {
          "base_uri": "https://localhost:8080/"
        },
        "id": "kGHGlgjL3DUA",
        "outputId": "87b52fa3-2756-43e4-df89-346459acd2a1"
      },
      "execution_count": null,
      "outputs": [
        {
          "output_type": "stream",
          "name": "stdout",
          "text": [
            "tagproduct\n"
          ]
        }
      ]
    },
    {
      "cell_type": "code",
      "source": [
        "import nltk"
      ],
      "metadata": {
        "id": "YwD01IfL3DW1"
      },
      "execution_count": null,
      "outputs": []
    },
    {
      "cell_type": "code",
      "source": [
        "nltk.download('punkt')"
      ],
      "metadata": {
        "colab": {
          "base_uri": "https://localhost:8080/"
        },
        "id": "5hL_U-s-3DZy",
        "outputId": "e683637e-2b80-451d-93d8-903dc185ceef"
      },
      "execution_count": null,
      "outputs": [
        {
          "output_type": "stream",
          "name": "stderr",
          "text": [
            "[nltk_data] Downloading package punkt to /root/nltk_data...\n",
            "[nltk_data]   Package punkt is already up-to-date!\n"
          ]
        },
        {
          "output_type": "execute_result",
          "data": {
            "text/plain": [
              "True"
            ]
          },
          "metadata": {},
          "execution_count": 82
        }
      ]
    },
    {
      "cell_type": "code",
      "source": [
        "tokens = nltk.word_tokenize(example)\n",
        "tokens[:10]"
      ],
      "metadata": {
        "colab": {
          "base_uri": "https://localhost:8080/"
        },
        "id": "x8Wj0ux73Dc4",
        "outputId": "d0562033-c7f6-430d-f08d-602f5854840c"
      },
      "execution_count": null,
      "outputs": [
        {
          "output_type": "execute_result",
          "data": {
            "text/plain": [
              "['tagproduct']"
            ]
          },
          "metadata": {},
          "execution_count": 83
        }
      ]
    },
    {
      "cell_type": "code",
      "source": [
        "nltk.download('average_perceptron_tagger')"
      ],
      "metadata": {
        "colab": {
          "base_uri": "https://localhost:8080/"
        },
        "id": "KM45X6hN3Df0",
        "outputId": "4eefdabb-8c3d-4de2-e70b-bd1c30f79108"
      },
      "execution_count": null,
      "outputs": [
        {
          "output_type": "stream",
          "name": "stderr",
          "text": [
            "[nltk_data] Error loading average_perceptron_tagger: Package\n",
            "[nltk_data]     'average_perceptron_tagger' not found in index\n"
          ]
        },
        {
          "output_type": "execute_result",
          "data": {
            "text/plain": [
              "False"
            ]
          },
          "metadata": {},
          "execution_count": 84
        }
      ]
    },
    {
      "cell_type": "markdown",
      "source": [
        "punkt is used for tokenising sentences and **averaged_perceptron_tagger** is used for tagging words with their parts of speech (POS). We also need to set the add this directory to the NLTK data path.\n",
        "\n",
        "\n",
        "\n"
      ],
      "metadata": {
        "id": "j9KQuNjKrOAq"
      }
    },
    {
      "cell_type": "markdown",
      "source": [
        "POS Tagging in NLTK is a process to mark up the words in text format for a particular part of a speech based on its definition and context. Some NLTK POS tagging examples are: CC, CD, EX, JJ, MD, NNP, PDT, PRP$, TO, etc. POS tagger is used to assign grammatical information of each word of the sentence."
      ],
      "metadata": {
        "id": "9bQHXoOjrVvZ"
      }
    },
    {
      "cell_type": "code",
      "source": [
        "nltk.download('averaged_perceptron_tagger')"
      ],
      "metadata": {
        "colab": {
          "base_uri": "https://localhost:8080/"
        },
        "id": "Qy1SZRLnpzGB",
        "outputId": "9daa2b14-e706-43a6-85a8-45bea1038cb5"
      },
      "execution_count": null,
      "outputs": [
        {
          "output_type": "stream",
          "name": "stderr",
          "text": [
            "[nltk_data] Downloading package averaged_perceptron_tagger to\n",
            "[nltk_data]     /root/nltk_data...\n",
            "[nltk_data]   Package averaged_perceptron_tagger is already up-to-\n",
            "[nltk_data]       date!\n"
          ]
        },
        {
          "output_type": "execute_result",
          "data": {
            "text/plain": [
              "True"
            ]
          },
          "metadata": {},
          "execution_count": 85
        }
      ]
    },
    {
      "cell_type": "code",
      "source": [
        "tagged = nltk.pos_tag(tokens)\n",
        "tagged[:10]"
      ],
      "metadata": {
        "colab": {
          "base_uri": "https://localhost:8080/"
        },
        "id": "RG5__S2K3Dis",
        "outputId": "fa1b95cc-1dfa-41f5-d8d5-56b14c166e16"
      },
      "execution_count": null,
      "outputs": [
        {
          "output_type": "execute_result",
          "data": {
            "text/plain": [
              "[('tagproduct', 'NN')]"
            ]
          },
          "metadata": {},
          "execution_count": 86
        }
      ]
    },
    {
      "cell_type": "code",
      "source": [
        "nltk.download('maxent_ne_chunker')"
      ],
      "metadata": {
        "colab": {
          "base_uri": "https://localhost:8080/"
        },
        "id": "Yq58mZha3Dlz",
        "outputId": "0a462778-b824-4ae1-afd3-35e2e038e9d4"
      },
      "execution_count": null,
      "outputs": [
        {
          "output_type": "stream",
          "name": "stderr",
          "text": [
            "[nltk_data] Downloading package maxent_ne_chunker to\n",
            "[nltk_data]     /root/nltk_data...\n",
            "[nltk_data]   Package maxent_ne_chunker is already up-to-date!\n"
          ]
        },
        {
          "output_type": "execute_result",
          "data": {
            "text/plain": [
              "True"
            ]
          },
          "metadata": {},
          "execution_count": 87
        }
      ]
    },
    {
      "cell_type": "code",
      "source": [
        "nltk.download('words')"
      ],
      "metadata": {
        "colab": {
          "base_uri": "https://localhost:8080/"
        },
        "id": "ws94iy1r3DpH",
        "outputId": "b685f7dc-82a4-443b-d78d-025446d36f0c"
      },
      "execution_count": null,
      "outputs": [
        {
          "output_type": "stream",
          "name": "stderr",
          "text": [
            "[nltk_data] Downloading package words to /root/nltk_data...\n",
            "[nltk_data]   Package words is already up-to-date!\n"
          ]
        },
        {
          "output_type": "execute_result",
          "data": {
            "text/plain": [
              "True"
            ]
          },
          "metadata": {},
          "execution_count": 88
        }
      ]
    },
    {
      "cell_type": "code",
      "source": [
        "nltk.download('all')"
      ],
      "metadata": {
        "colab": {
          "base_uri": "https://localhost:8080/"
        },
        "id": "idOfuzb8vR7k",
        "outputId": "763631f0-e348-4758-b9ce-7c186a556808"
      },
      "execution_count": null,
      "outputs": [
        {
          "output_type": "stream",
          "name": "stderr",
          "text": [
            "[nltk_data] Downloading collection 'all'\n",
            "[nltk_data]    | \n",
            "[nltk_data]    | Downloading package abc to /root/nltk_data...\n",
            "[nltk_data]    |   Package abc is already up-to-date!\n",
            "[nltk_data]    | Downloading package alpino to /root/nltk_data...\n",
            "[nltk_data]    |   Package alpino is already up-to-date!\n",
            "[nltk_data]    | Downloading package averaged_perceptron_tagger to\n",
            "[nltk_data]    |     /root/nltk_data...\n",
            "[nltk_data]    |   Package averaged_perceptron_tagger is already up-\n",
            "[nltk_data]    |       to-date!\n",
            "[nltk_data]    | Downloading package averaged_perceptron_tagger_ru to\n",
            "[nltk_data]    |     /root/nltk_data...\n",
            "[nltk_data]    |   Package averaged_perceptron_tagger_ru is already\n",
            "[nltk_data]    |       up-to-date!\n",
            "[nltk_data]    | Downloading package basque_grammars to\n",
            "[nltk_data]    |     /root/nltk_data...\n",
            "[nltk_data]    |   Package basque_grammars is already up-to-date!\n",
            "[nltk_data]    | Downloading package bcp47 to /root/nltk_data...\n",
            "[nltk_data]    |   Package bcp47 is already up-to-date!\n",
            "[nltk_data]    | Downloading package biocreative_ppi to\n",
            "[nltk_data]    |     /root/nltk_data...\n",
            "[nltk_data]    |   Package biocreative_ppi is already up-to-date!\n",
            "[nltk_data]    | Downloading package bllip_wsj_no_aux to\n",
            "[nltk_data]    |     /root/nltk_data...\n",
            "[nltk_data]    |   Package bllip_wsj_no_aux is already up-to-date!\n",
            "[nltk_data]    | Downloading package book_grammars to\n",
            "[nltk_data]    |     /root/nltk_data...\n",
            "[nltk_data]    |   Package book_grammars is already up-to-date!\n",
            "[nltk_data]    | Downloading package brown to /root/nltk_data...\n",
            "[nltk_data]    |   Package brown is already up-to-date!\n",
            "[nltk_data]    | Downloading package brown_tei to /root/nltk_data...\n",
            "[nltk_data]    |   Package brown_tei is already up-to-date!\n",
            "[nltk_data]    | Downloading package cess_cat to /root/nltk_data...\n",
            "[nltk_data]    |   Package cess_cat is already up-to-date!\n",
            "[nltk_data]    | Downloading package cess_esp to /root/nltk_data...\n",
            "[nltk_data]    |   Package cess_esp is already up-to-date!\n",
            "[nltk_data]    | Downloading package chat80 to /root/nltk_data...\n",
            "[nltk_data]    |   Package chat80 is already up-to-date!\n",
            "[nltk_data]    | Downloading package city_database to\n",
            "[nltk_data]    |     /root/nltk_data...\n",
            "[nltk_data]    |   Package city_database is already up-to-date!\n",
            "[nltk_data]    | Downloading package cmudict to /root/nltk_data...\n",
            "[nltk_data]    |   Package cmudict is already up-to-date!\n",
            "[nltk_data]    | Downloading package comparative_sentences to\n",
            "[nltk_data]    |     /root/nltk_data...\n",
            "[nltk_data]    |   Package comparative_sentences is already up-to-\n",
            "[nltk_data]    |       date!\n",
            "[nltk_data]    | Downloading package comtrans to /root/nltk_data...\n",
            "[nltk_data]    |   Package comtrans is already up-to-date!\n",
            "[nltk_data]    | Downloading package conll2000 to /root/nltk_data...\n",
            "[nltk_data]    |   Package conll2000 is already up-to-date!\n",
            "[nltk_data]    | Downloading package conll2002 to /root/nltk_data...\n",
            "[nltk_data]    |   Package conll2002 is already up-to-date!\n",
            "[nltk_data]    | Downloading package conll2007 to /root/nltk_data...\n",
            "[nltk_data]    |   Package conll2007 is already up-to-date!\n",
            "[nltk_data]    | Downloading package crubadan to /root/nltk_data...\n",
            "[nltk_data]    |   Package crubadan is already up-to-date!\n",
            "[nltk_data]    | Downloading package dependency_treebank to\n",
            "[nltk_data]    |     /root/nltk_data...\n",
            "[nltk_data]    |   Package dependency_treebank is already up-to-date!\n",
            "[nltk_data]    | Downloading package dolch to /root/nltk_data...\n",
            "[nltk_data]    |   Package dolch is already up-to-date!\n",
            "[nltk_data]    | Downloading package europarl_raw to\n",
            "[nltk_data]    |     /root/nltk_data...\n",
            "[nltk_data]    |   Package europarl_raw is already up-to-date!\n",
            "[nltk_data]    | Downloading package extended_omw to\n",
            "[nltk_data]    |     /root/nltk_data...\n",
            "[nltk_data]    |   Package extended_omw is already up-to-date!\n",
            "[nltk_data]    | Downloading package floresta to /root/nltk_data...\n",
            "[nltk_data]    |   Package floresta is already up-to-date!\n",
            "[nltk_data]    | Downloading package framenet_v15 to\n",
            "[nltk_data]    |     /root/nltk_data...\n",
            "[nltk_data]    |   Package framenet_v15 is already up-to-date!\n",
            "[nltk_data]    | Downloading package framenet_v17 to\n",
            "[nltk_data]    |     /root/nltk_data...\n",
            "[nltk_data]    |   Package framenet_v17 is already up-to-date!\n",
            "[nltk_data]    | Downloading package gazetteers to /root/nltk_data...\n",
            "[nltk_data]    |   Package gazetteers is already up-to-date!\n",
            "[nltk_data]    | Downloading package genesis to /root/nltk_data...\n",
            "[nltk_data]    |   Package genesis is already up-to-date!\n",
            "[nltk_data]    | Downloading package gutenberg to /root/nltk_data...\n",
            "[nltk_data]    |   Package gutenberg is already up-to-date!\n",
            "[nltk_data]    | Downloading package ieer to /root/nltk_data...\n",
            "[nltk_data]    |   Package ieer is already up-to-date!\n",
            "[nltk_data]    | Downloading package inaugural to /root/nltk_data...\n",
            "[nltk_data]    |   Package inaugural is already up-to-date!\n",
            "[nltk_data]    | Downloading package indian to /root/nltk_data...\n",
            "[nltk_data]    |   Package indian is already up-to-date!\n",
            "[nltk_data]    | Downloading package jeita to /root/nltk_data...\n",
            "[nltk_data]    |   Package jeita is already up-to-date!\n",
            "[nltk_data]    | Downloading package kimmo to /root/nltk_data...\n",
            "[nltk_data]    |   Package kimmo is already up-to-date!\n",
            "[nltk_data]    | Downloading package knbc to /root/nltk_data...\n",
            "[nltk_data]    |   Package knbc is already up-to-date!\n",
            "[nltk_data]    | Downloading package large_grammars to\n",
            "[nltk_data]    |     /root/nltk_data...\n",
            "[nltk_data]    |   Package large_grammars is already up-to-date!\n",
            "[nltk_data]    | Downloading package lin_thesaurus to\n",
            "[nltk_data]    |     /root/nltk_data...\n",
            "[nltk_data]    |   Package lin_thesaurus is already up-to-date!\n",
            "[nltk_data]    | Downloading package mac_morpho to /root/nltk_data...\n",
            "[nltk_data]    |   Package mac_morpho is already up-to-date!\n",
            "[nltk_data]    | Downloading package machado to /root/nltk_data...\n",
            "[nltk_data]    |   Package machado is already up-to-date!\n",
            "[nltk_data]    | Downloading package masc_tagged to /root/nltk_data...\n",
            "[nltk_data]    |   Package masc_tagged is already up-to-date!\n",
            "[nltk_data]    | Downloading package maxent_ne_chunker to\n",
            "[nltk_data]    |     /root/nltk_data...\n",
            "[nltk_data]    |   Package maxent_ne_chunker is already up-to-date!\n",
            "[nltk_data]    | Downloading package maxent_treebank_pos_tagger to\n",
            "[nltk_data]    |     /root/nltk_data...\n",
            "[nltk_data]    |   Package maxent_treebank_pos_tagger is already up-\n",
            "[nltk_data]    |       to-date!\n",
            "[nltk_data]    | Downloading package moses_sample to\n",
            "[nltk_data]    |     /root/nltk_data...\n",
            "[nltk_data]    |   Package moses_sample is already up-to-date!\n",
            "[nltk_data]    | Downloading package movie_reviews to\n",
            "[nltk_data]    |     /root/nltk_data...\n",
            "[nltk_data]    |   Package movie_reviews is already up-to-date!\n",
            "[nltk_data]    | Downloading package mte_teip5 to /root/nltk_data...\n",
            "[nltk_data]    |   Package mte_teip5 is already up-to-date!\n",
            "[nltk_data]    | Downloading package mwa_ppdb to /root/nltk_data...\n",
            "[nltk_data]    |   Package mwa_ppdb is already up-to-date!\n",
            "[nltk_data]    | Downloading package names to /root/nltk_data...\n",
            "[nltk_data]    |   Package names is already up-to-date!\n",
            "[nltk_data]    | Downloading package nombank.1.0 to /root/nltk_data...\n",
            "[nltk_data]    |   Package nombank.1.0 is already up-to-date!\n",
            "[nltk_data]    | Downloading package nonbreaking_prefixes to\n",
            "[nltk_data]    |     /root/nltk_data...\n",
            "[nltk_data]    |   Package nonbreaking_prefixes is already up-to-date!\n",
            "[nltk_data]    | Downloading package nps_chat to /root/nltk_data...\n",
            "[nltk_data]    |   Package nps_chat is already up-to-date!\n",
            "[nltk_data]    | Downloading package omw to /root/nltk_data...\n",
            "[nltk_data]    |   Package omw is already up-to-date!\n",
            "[nltk_data]    | Downloading package omw-1.4 to /root/nltk_data...\n",
            "[nltk_data]    |   Package omw-1.4 is already up-to-date!\n",
            "[nltk_data]    | Downloading package opinion_lexicon to\n",
            "[nltk_data]    |     /root/nltk_data...\n",
            "[nltk_data]    |   Package opinion_lexicon is already up-to-date!\n",
            "[nltk_data]    | Downloading package panlex_swadesh to\n",
            "[nltk_data]    |     /root/nltk_data...\n",
            "[nltk_data]    |   Package panlex_swadesh is already up-to-date!\n",
            "[nltk_data]    | Downloading package paradigms to /root/nltk_data...\n",
            "[nltk_data]    |   Package paradigms is already up-to-date!\n",
            "[nltk_data]    | Downloading package pe08 to /root/nltk_data...\n",
            "[nltk_data]    |   Package pe08 is already up-to-date!\n",
            "[nltk_data]    | Downloading package perluniprops to\n",
            "[nltk_data]    |     /root/nltk_data...\n",
            "[nltk_data]    |   Package perluniprops is already up-to-date!\n",
            "[nltk_data]    | Downloading package pil to /root/nltk_data...\n",
            "[nltk_data]    |   Package pil is already up-to-date!\n",
            "[nltk_data]    | Downloading package pl196x to /root/nltk_data...\n",
            "[nltk_data]    |   Package pl196x is already up-to-date!\n",
            "[nltk_data]    | Downloading package porter_test to /root/nltk_data...\n",
            "[nltk_data]    |   Package porter_test is already up-to-date!\n",
            "[nltk_data]    | Downloading package ppattach to /root/nltk_data...\n",
            "[nltk_data]    |   Package ppattach is already up-to-date!\n",
            "[nltk_data]    | Downloading package problem_reports to\n",
            "[nltk_data]    |     /root/nltk_data...\n",
            "[nltk_data]    |   Package problem_reports is already up-to-date!\n",
            "[nltk_data]    | Downloading package product_reviews_1 to\n",
            "[nltk_data]    |     /root/nltk_data...\n",
            "[nltk_data]    |   Package product_reviews_1 is already up-to-date!\n",
            "[nltk_data]    | Downloading package product_reviews_2 to\n",
            "[nltk_data]    |     /root/nltk_data...\n",
            "[nltk_data]    |   Package product_reviews_2 is already up-to-date!\n",
            "[nltk_data]    | Downloading package propbank to /root/nltk_data...\n",
            "[nltk_data]    |   Package propbank is already up-to-date!\n",
            "[nltk_data]    | Downloading package pros_cons to /root/nltk_data...\n",
            "[nltk_data]    |   Package pros_cons is already up-to-date!\n",
            "[nltk_data]    | Downloading package ptb to /root/nltk_data...\n",
            "[nltk_data]    |   Package ptb is already up-to-date!\n",
            "[nltk_data]    | Downloading package punkt to /root/nltk_data...\n",
            "[nltk_data]    |   Package punkt is already up-to-date!\n",
            "[nltk_data]    | Downloading package qc to /root/nltk_data...\n",
            "[nltk_data]    |   Package qc is already up-to-date!\n",
            "[nltk_data]    | Downloading package reuters to /root/nltk_data...\n",
            "[nltk_data]    |   Package reuters is already up-to-date!\n",
            "[nltk_data]    | Downloading package rslp to /root/nltk_data...\n",
            "[nltk_data]    |   Package rslp is already up-to-date!\n",
            "[nltk_data]    | Downloading package rte to /root/nltk_data...\n",
            "[nltk_data]    |   Package rte is already up-to-date!\n",
            "[nltk_data]    | Downloading package sample_grammars to\n",
            "[nltk_data]    |     /root/nltk_data...\n",
            "[nltk_data]    |   Package sample_grammars is already up-to-date!\n",
            "[nltk_data]    | Downloading package semcor to /root/nltk_data...\n",
            "[nltk_data]    |   Package semcor is already up-to-date!\n",
            "[nltk_data]    | Downloading package senseval to /root/nltk_data...\n",
            "[nltk_data]    |   Package senseval is already up-to-date!\n",
            "[nltk_data]    | Downloading package sentence_polarity to\n",
            "[nltk_data]    |     /root/nltk_data...\n",
            "[nltk_data]    |   Package sentence_polarity is already up-to-date!\n",
            "[nltk_data]    | Downloading package sentiwordnet to\n",
            "[nltk_data]    |     /root/nltk_data...\n",
            "[nltk_data]    |   Package sentiwordnet is already up-to-date!\n",
            "[nltk_data]    | Downloading package shakespeare to /root/nltk_data...\n",
            "[nltk_data]    |   Package shakespeare is already up-to-date!\n",
            "[nltk_data]    | Downloading package sinica_treebank to\n",
            "[nltk_data]    |     /root/nltk_data...\n",
            "[nltk_data]    |   Package sinica_treebank is already up-to-date!\n",
            "[nltk_data]    | Downloading package smultron to /root/nltk_data...\n",
            "[nltk_data]    |   Package smultron is already up-to-date!\n",
            "[nltk_data]    | Downloading package snowball_data to\n",
            "[nltk_data]    |     /root/nltk_data...\n",
            "[nltk_data]    |   Package snowball_data is already up-to-date!\n",
            "[nltk_data]    | Downloading package spanish_grammars to\n",
            "[nltk_data]    |     /root/nltk_data...\n",
            "[nltk_data]    |   Package spanish_grammars is already up-to-date!\n",
            "[nltk_data]    | Downloading package state_union to /root/nltk_data...\n",
            "[nltk_data]    |   Package state_union is already up-to-date!\n",
            "[nltk_data]    | Downloading package stopwords to /root/nltk_data...\n",
            "[nltk_data]    |   Package stopwords is already up-to-date!\n",
            "[nltk_data]    | Downloading package subjectivity to\n",
            "[nltk_data]    |     /root/nltk_data...\n",
            "[nltk_data]    |   Package subjectivity is already up-to-date!\n",
            "[nltk_data]    | Downloading package swadesh to /root/nltk_data...\n",
            "[nltk_data]    |   Package swadesh is already up-to-date!\n",
            "[nltk_data]    | Downloading package switchboard to /root/nltk_data...\n",
            "[nltk_data]    |   Package switchboard is already up-to-date!\n",
            "[nltk_data]    | Downloading package tagsets to /root/nltk_data...\n",
            "[nltk_data]    |   Package tagsets is already up-to-date!\n",
            "[nltk_data]    | Downloading package timit to /root/nltk_data...\n",
            "[nltk_data]    |   Package timit is already up-to-date!\n",
            "[nltk_data]    | Downloading package toolbox to /root/nltk_data...\n",
            "[nltk_data]    |   Package toolbox is already up-to-date!\n",
            "[nltk_data]    | Downloading package treebank to /root/nltk_data...\n",
            "[nltk_data]    |   Package treebank is already up-to-date!\n",
            "[nltk_data]    | Downloading package twitter_samples to\n",
            "[nltk_data]    |     /root/nltk_data...\n",
            "[nltk_data]    |   Package twitter_samples is already up-to-date!\n",
            "[nltk_data]    | Downloading package udhr to /root/nltk_data...\n",
            "[nltk_data]    |   Package udhr is already up-to-date!\n",
            "[nltk_data]    | Downloading package udhr2 to /root/nltk_data...\n",
            "[nltk_data]    |   Package udhr2 is already up-to-date!\n",
            "[nltk_data]    | Downloading package unicode_samples to\n",
            "[nltk_data]    |     /root/nltk_data...\n",
            "[nltk_data]    |   Package unicode_samples is already up-to-date!\n",
            "[nltk_data]    | Downloading package universal_tagset to\n",
            "[nltk_data]    |     /root/nltk_data...\n",
            "[nltk_data]    |   Package universal_tagset is already up-to-date!\n",
            "[nltk_data]    | Downloading package universal_treebanks_v20 to\n",
            "[nltk_data]    |     /root/nltk_data...\n",
            "[nltk_data]    |   Package universal_treebanks_v20 is already up-to-\n",
            "[nltk_data]    |       date!\n",
            "[nltk_data]    | Downloading package vader_lexicon to\n",
            "[nltk_data]    |     /root/nltk_data...\n",
            "[nltk_data]    |   Package vader_lexicon is already up-to-date!\n",
            "[nltk_data]    | Downloading package verbnet to /root/nltk_data...\n",
            "[nltk_data]    |   Package verbnet is already up-to-date!\n",
            "[nltk_data]    | Downloading package verbnet3 to /root/nltk_data...\n",
            "[nltk_data]    |   Package verbnet3 is already up-to-date!\n",
            "[nltk_data]    | Downloading package webtext to /root/nltk_data...\n",
            "[nltk_data]    |   Package webtext is already up-to-date!\n",
            "[nltk_data]    | Downloading package wmt15_eval to /root/nltk_data...\n",
            "[nltk_data]    |   Package wmt15_eval is already up-to-date!\n",
            "[nltk_data]    | Downloading package word2vec_sample to\n",
            "[nltk_data]    |     /root/nltk_data...\n",
            "[nltk_data]    |   Package word2vec_sample is already up-to-date!\n",
            "[nltk_data]    | Downloading package wordnet to /root/nltk_data...\n",
            "[nltk_data]    |   Package wordnet is already up-to-date!\n",
            "[nltk_data]    | Downloading package wordnet2021 to /root/nltk_data...\n",
            "[nltk_data]    |   Package wordnet2021 is already up-to-date!\n",
            "[nltk_data]    | Downloading package wordnet31 to /root/nltk_data...\n",
            "[nltk_data]    |   Package wordnet31 is already up-to-date!\n",
            "[nltk_data]    | Downloading package wordnet_ic to /root/nltk_data...\n",
            "[nltk_data]    |   Package wordnet_ic is already up-to-date!\n",
            "[nltk_data]    | Downloading package words to /root/nltk_data...\n",
            "[nltk_data]    |   Package words is already up-to-date!\n",
            "[nltk_data]    | Downloading package ycoe to /root/nltk_data...\n",
            "[nltk_data]    |   Package ycoe is already up-to-date!\n",
            "[nltk_data]    | \n",
            "[nltk_data]  Done downloading collection all\n"
          ]
        },
        {
          "output_type": "execute_result",
          "data": {
            "text/plain": [
              "True"
            ]
          },
          "metadata": {},
          "execution_count": 89
        }
      ]
    },
    {
      "cell_type": "code",
      "source": [
        "from nltk.chunk.api import ChunkParserI\n",
        "from nltk.chunk.util import (ChunkScore)\n",
        "from nltk.chunk.util import ChunkScore"
      ],
      "metadata": {
        "id": "Su5p48oVvwAi"
      },
      "execution_count": null,
      "outputs": []
    },
    {
      "cell_type": "code",
      "source": [
        "import nltk, re, pprint\n"
      ],
      "metadata": {
        "id": "3zhWMcwRwXXq"
      },
      "execution_count": null,
      "outputs": []
    },
    {
      "cell_type": "code",
      "source": [
        "nltk.download('maxent_ne_chunker')"
      ],
      "metadata": {
        "colab": {
          "base_uri": "https://localhost:8080/"
        },
        "id": "p-SfCHSO2KPw",
        "outputId": "b08fe129-a9ba-4e8a-8d07-4f8df1abb1e2"
      },
      "execution_count": null,
      "outputs": [
        {
          "output_type": "stream",
          "name": "stderr",
          "text": [
            "[nltk_data] Downloading package maxent_ne_chunker to\n",
            "[nltk_data]     /root/nltk_data...\n",
            "[nltk_data]   Package maxent_ne_chunker is already up-to-date!\n"
          ]
        },
        {
          "output_type": "execute_result",
          "data": {
            "text/plain": [
              "True"
            ]
          },
          "metadata": {},
          "execution_count": 92
        }
      ]
    },
    {
      "cell_type": "code",
      "source": [
        "entities = nltk.chunk.ne_chunk(tagged)\n",
        "entities.pprint()"
      ],
      "metadata": {
        "colab": {
          "base_uri": "https://localhost:8080/"
        },
        "id": "5cN_DNwM2Jk-",
        "outputId": "dbe5c5d9-6d4c-46e4-c32f-092d854fdc7a"
      },
      "execution_count": null,
      "outputs": [
        {
          "output_type": "stream",
          "name": "stdout",
          "text": [
            "(S tagproduct/NN)\n"
          ]
        }
      ]
    },
    {
      "cell_type": "markdown",
      "source": [
        "Step 1. VADER Seniment Scoring¶ We will use NLTK's SentimentIntensityAnalyzer to get the neg/neu/pos scores of the text.\n",
        "\n",
        "This uses a \"bag of words\" approach: Stop words are removed each word is scored and combined to a total score."
      ],
      "metadata": {
        "id": "3GKyqWL6xiPe"
      }
    },
    {
      "cell_type": "code",
      "source": [
        "\n",
        "from nltk.sentiment import SentimentIntensityAnalyzer\n",
        "nltk.download('vader_lexicon')\n",
        "\n",
        "sia = SentimentIntensityAnalyzer()"
      ],
      "metadata": {
        "colab": {
          "base_uri": "https://localhost:8080/"
        },
        "id": "Y8JOo7ef3DwI",
        "outputId": "0e1b034c-9f67-4ecd-c99d-8a8787847b80"
      },
      "execution_count": null,
      "outputs": [
        {
          "output_type": "stream",
          "name": "stderr",
          "text": [
            "[nltk_data] Downloading package vader_lexicon to /root/nltk_data...\n",
            "[nltk_data]   Package vader_lexicon is already up-to-date!\n"
          ]
        }
      ]
    },
    {
      "cell_type": "code",
      "source": [
        "type(sia)"
      ],
      "metadata": {
        "colab": {
          "base_uri": "https://localhost:8080/"
        },
        "id": "YOHSyoA_zVDF",
        "outputId": "c52cf10b-4559-40b0-bfe8-04a2a3e585c5"
      },
      "execution_count": null,
      "outputs": [
        {
          "output_type": "execute_result",
          "data": {
            "text/plain": [
              "nltk.sentiment.vader.SentimentIntensityAnalyzer"
            ]
          },
          "metadata": {},
          "execution_count": 95
        }
      ]
    },
    {
      "cell_type": "code",
      "source": [
        "sia.polarity_scores('It will give a nice look and very comfortable to wear!')"
      ],
      "metadata": {
        "colab": {
          "base_uri": "https://localhost:8080/"
        },
        "id": "SCgpIjTI3Dzy",
        "outputId": "52d5bd0b-35b0-4efb-a627-9497218ed272"
      },
      "execution_count": null,
      "outputs": [
        {
          "output_type": "execute_result",
          "data": {
            "text/plain": [
              "{'neg': 0.0, 'neu': 0.545, 'pos': 0.455, 'compound': 0.7707}"
            ]
          },
          "metadata": {},
          "execution_count": 96
        }
      ]
    },
    {
      "cell_type": "code",
      "source": [
        "sia.polarity_scores('quality is fine. chain and the stones are looking pretty!!')"
      ],
      "metadata": {
        "colab": {
          "base_uri": "https://localhost:8080/"
        },
        "id": "hImX708O8UoO",
        "outputId": "a5a127c5-7470-49e0-8677-727b67e7afe6"
      },
      "execution_count": null,
      "outputs": [
        {
          "output_type": "execute_result",
          "data": {
            "text/plain": [
              "{'neg': 0.0, 'neu': 0.589, 'pos': 0.411, 'compound': 0.6792}"
            ]
          },
          "metadata": {},
          "execution_count": 97
        }
      ]
    },
    {
      "cell_type": "code",
      "source": [
        "sia.polarity_scores(example)"
      ],
      "metadata": {
        "colab": {
          "base_uri": "https://localhost:8080/"
        },
        "id": "-m37hLM83HNF",
        "outputId": "0fa8faaf-4009-49c8-b3fd-a77e9ed1519e"
      },
      "execution_count": null,
      "outputs": [
        {
          "output_type": "execute_result",
          "data": {
            "text/plain": [
              "{'neg': 0.0, 'neu': 1.0, 'pos': 0.0, 'compound': 0.0}"
            ]
          },
          "metadata": {},
          "execution_count": 98
        }
      ]
    },
    {
      "cell_type": "code",
      "source": [
        "pip install tqdm"
      ],
      "metadata": {
        "id": "uX5xpCU0_R-_",
        "outputId": "5e5ee932-3b70-48d3-8f10-db5222118092",
        "colab": {
          "base_uri": "https://localhost:8080/"
        }
      },
      "execution_count": null,
      "outputs": [
        {
          "output_type": "stream",
          "name": "stdout",
          "text": [
            "Looking in indexes: https://pypi.org/simple, https://us-python.pkg.dev/colab-wheels/public/simple/\n",
            "Requirement already satisfied: tqdm in /usr/local/lib/python3.8/dist-packages (4.64.1)\n"
          ]
        }
      ]
    },
    {
      "cell_type": "code",
      "source": [
        "pip install tqdm"
      ],
      "metadata": {
        "colab": {
          "base_uri": "https://localhost:8080/"
        },
        "id": "KdwNl90W20E-",
        "outputId": "dd6a14bd-7cc0-4be8-e9a1-d458461b6f02"
      },
      "execution_count": null,
      "outputs": [
        {
          "output_type": "stream",
          "name": "stdout",
          "text": [
            "Looking in indexes: https://pypi.org/simple, https://us-python.pkg.dev/colab-wheels/public/simple/\n",
            "Requirement already satisfied: tqdm in /usr/local/lib/python3.8/dist-packages (4.64.1)\n"
          ]
        }
      ]
    },
    {
      "cell_type": "code",
      "source": [
        "pip install tdqm"
      ],
      "metadata": {
        "colab": {
          "base_uri": "https://localhost:8080/"
        },
        "id": "atj7wEtn3glW",
        "outputId": "584f057c-281c-486b-f107-dee232f48518"
      },
      "execution_count": null,
      "outputs": [
        {
          "output_type": "stream",
          "name": "stdout",
          "text": [
            "Looking in indexes: https://pypi.org/simple, https://us-python.pkg.dev/colab-wheels/public/simple/\n",
            "Requirement already satisfied: tdqm in /usr/local/lib/python3.8/dist-packages (0.0.1)\n",
            "Requirement already satisfied: tqdm in /usr/local/lib/python3.8/dist-packages (from tdqm) (4.64.1)\n"
          ]
        }
      ]
    },
    {
      "cell_type": "code",
      "source": [
        "from tqdm import tqdm"
      ],
      "metadata": {
        "id": "Ed-LQ6YP4R7Y"
      },
      "execution_count": null,
      "outputs": []
    },
    {
      "cell_type": "code",
      "source": [
        "\n",
        "\n",
        "#run the polarity score on the entire dataset\n",
        "\n",
        "res = {}\n",
        "for i in tqdm(df.iterrows(), total=len(df)):\n",
        "  text = row['text']\n",
        "  myid = row['Id']\n",
        "  res[myid] = sia.polarity_scores(text)\n"
      ],
      "metadata": {
        "id": "Ml9rap-M3D6T",
        "colab": {
          "base_uri": "https://localhost:8080/",
          "height": 253
        },
        "outputId": "a5d53bd8-2270-4912-ed4b-3d1aff4f0d82"
      },
      "execution_count": null,
      "outputs": [
        {
          "output_type": "stream",
          "name": "stderr",
          "text": [
            "  0%|          | 0/192 [00:00<?, ?it/s]\n"
          ]
        },
        {
          "output_type": "error",
          "ename": "NameError",
          "evalue": "ignored",
          "traceback": [
            "\u001b[0;31m---------------------------------------------------------------------------\u001b[0m",
            "\u001b[0;31mNameError\u001b[0m                                 Traceback (most recent call last)",
            "\u001b[0;32m<ipython-input-103-b66be877bcab>\u001b[0m in \u001b[0;36m<module>\u001b[0;34m\u001b[0m\n\u001b[1;32m      3\u001b[0m \u001b[0mres\u001b[0m \u001b[0;34m=\u001b[0m \u001b[0;34m{\u001b[0m\u001b[0;34m}\u001b[0m\u001b[0;34m\u001b[0m\u001b[0;34m\u001b[0m\u001b[0m\n\u001b[1;32m      4\u001b[0m \u001b[0;32mfor\u001b[0m \u001b[0mi\u001b[0m \u001b[0;32min\u001b[0m \u001b[0mtqdm\u001b[0m\u001b[0;34m(\u001b[0m\u001b[0mdf\u001b[0m\u001b[0;34m.\u001b[0m\u001b[0miterrows\u001b[0m\u001b[0;34m(\u001b[0m\u001b[0;34m)\u001b[0m\u001b[0;34m,\u001b[0m \u001b[0mtotal\u001b[0m\u001b[0;34m=\u001b[0m\u001b[0mlen\u001b[0m\u001b[0;34m(\u001b[0m\u001b[0mdf\u001b[0m\u001b[0;34m)\u001b[0m\u001b[0;34m)\u001b[0m\u001b[0;34m:\u001b[0m\u001b[0;34m\u001b[0m\u001b[0;34m\u001b[0m\u001b[0m\n\u001b[0;32m----> 5\u001b[0;31m   \u001b[0mtext\u001b[0m \u001b[0;34m=\u001b[0m \u001b[0mrow\u001b[0m\u001b[0;34m[\u001b[0m\u001b[0;34m'text'\u001b[0m\u001b[0;34m]\u001b[0m\u001b[0;34m\u001b[0m\u001b[0;34m\u001b[0m\u001b[0m\n\u001b[0m\u001b[1;32m      6\u001b[0m   \u001b[0mmyid\u001b[0m \u001b[0;34m=\u001b[0m \u001b[0mrow\u001b[0m\u001b[0;34m[\u001b[0m\u001b[0;34m'Id'\u001b[0m\u001b[0;34m]\u001b[0m\u001b[0;34m\u001b[0m\u001b[0;34m\u001b[0m\u001b[0m\n\u001b[1;32m      7\u001b[0m   \u001b[0mres\u001b[0m\u001b[0;34m[\u001b[0m\u001b[0mmyid\u001b[0m\u001b[0;34m]\u001b[0m \u001b[0;34m=\u001b[0m \u001b[0msia\u001b[0m\u001b[0;34m.\u001b[0m\u001b[0mpolarity_scores\u001b[0m\u001b[0;34m(\u001b[0m\u001b[0mtext\u001b[0m\u001b[0;34m)\u001b[0m\u001b[0;34m\u001b[0m\u001b[0;34m\u001b[0m\u001b[0m\n",
            "\u001b[0;31mNameError\u001b[0m: name 'row' is not defined"
          ]
        }
      ]
    },
    {
      "cell_type": "code",
      "source": [
        "vaders = pd.DataFrame(res).T\n",
        "vaders = vaders.rest_index().rename(columns={'index': 'Id'})\n",
        "vaders = vaders.merge(df, how= 'left')"
      ],
      "metadata": {
        "id": "xmxH8w163D9i",
        "colab": {
          "base_uri": "https://localhost:8080/",
          "height": 340
        },
        "outputId": "17092986-7e24-4fbd-9017-a9384f4a950c"
      },
      "execution_count": null,
      "outputs": [
        {
          "output_type": "error",
          "ename": "AttributeError",
          "evalue": "ignored",
          "traceback": [
            "\u001b[0;31m---------------------------------------------------------------------------\u001b[0m",
            "\u001b[0;31mAttributeError\u001b[0m                            Traceback (most recent call last)",
            "\u001b[0;32m<ipython-input-104-914bd790339c>\u001b[0m in \u001b[0;36m<module>\u001b[0;34m\u001b[0m\n\u001b[1;32m      1\u001b[0m \u001b[0mvaders\u001b[0m \u001b[0;34m=\u001b[0m \u001b[0mpd\u001b[0m\u001b[0;34m.\u001b[0m\u001b[0mDataFrame\u001b[0m\u001b[0;34m(\u001b[0m\u001b[0mres\u001b[0m\u001b[0;34m)\u001b[0m\u001b[0;34m.\u001b[0m\u001b[0mT\u001b[0m\u001b[0;34m\u001b[0m\u001b[0;34m\u001b[0m\u001b[0m\n\u001b[0;32m----> 2\u001b[0;31m \u001b[0mvaders\u001b[0m \u001b[0;34m=\u001b[0m \u001b[0mvaders\u001b[0m\u001b[0;34m.\u001b[0m\u001b[0mrest_index\u001b[0m\u001b[0;34m(\u001b[0m\u001b[0;34m)\u001b[0m\u001b[0;34m.\u001b[0m\u001b[0mrename\u001b[0m\u001b[0;34m(\u001b[0m\u001b[0mcolumns\u001b[0m\u001b[0;34m=\u001b[0m\u001b[0;34m{\u001b[0m\u001b[0;34m'index'\u001b[0m\u001b[0;34m:\u001b[0m \u001b[0;34m'Id'\u001b[0m\u001b[0;34m}\u001b[0m\u001b[0;34m)\u001b[0m\u001b[0;34m\u001b[0m\u001b[0;34m\u001b[0m\u001b[0m\n\u001b[0m\u001b[1;32m      3\u001b[0m \u001b[0mvaders\u001b[0m \u001b[0;34m=\u001b[0m \u001b[0mvaders\u001b[0m\u001b[0;34m.\u001b[0m\u001b[0mmerge\u001b[0m\u001b[0;34m(\u001b[0m\u001b[0mdf\u001b[0m\u001b[0;34m,\u001b[0m \u001b[0mhow\u001b[0m\u001b[0;34m=\u001b[0m \u001b[0;34m'left'\u001b[0m\u001b[0;34m)\u001b[0m\u001b[0;34m\u001b[0m\u001b[0;34m\u001b[0m\u001b[0m\n",
            "\u001b[0;32m/usr/local/lib/python3.8/dist-packages/pandas/core/generic.py\u001b[0m in \u001b[0;36m__getattr__\u001b[0;34m(self, name)\u001b[0m\n\u001b[1;32m   5485\u001b[0m         ):\n\u001b[1;32m   5486\u001b[0m             \u001b[0;32mreturn\u001b[0m \u001b[0mself\u001b[0m\u001b[0;34m[\u001b[0m\u001b[0mname\u001b[0m\u001b[0;34m]\u001b[0m\u001b[0;34m\u001b[0m\u001b[0;34m\u001b[0m\u001b[0m\n\u001b[0;32m-> 5487\u001b[0;31m         \u001b[0;32mreturn\u001b[0m \u001b[0mobject\u001b[0m\u001b[0;34m.\u001b[0m\u001b[0m__getattribute__\u001b[0m\u001b[0;34m(\u001b[0m\u001b[0mself\u001b[0m\u001b[0;34m,\u001b[0m \u001b[0mname\u001b[0m\u001b[0;34m)\u001b[0m\u001b[0;34m\u001b[0m\u001b[0;34m\u001b[0m\u001b[0m\n\u001b[0m\u001b[1;32m   5488\u001b[0m \u001b[0;34m\u001b[0m\u001b[0m\n\u001b[1;32m   5489\u001b[0m     \u001b[0;32mdef\u001b[0m \u001b[0m__setattr__\u001b[0m\u001b[0;34m(\u001b[0m\u001b[0mself\u001b[0m\u001b[0;34m,\u001b[0m \u001b[0mname\u001b[0m\u001b[0;34m:\u001b[0m \u001b[0mstr\u001b[0m\u001b[0;34m,\u001b[0m \u001b[0mvalue\u001b[0m\u001b[0;34m)\u001b[0m \u001b[0;34m->\u001b[0m \u001b[0;32mNone\u001b[0m\u001b[0;34m:\u001b[0m\u001b[0;34m\u001b[0m\u001b[0;34m\u001b[0m\u001b[0m\n",
            "\u001b[0;31mAttributeError\u001b[0m: 'DataFrame' object has no attribute 'rest_index'"
          ]
        }
      ]
    },
    {
      "cell_type": "code",
      "source": [],
      "metadata": {
        "id": "xQkz7VTj3EAr"
      },
      "execution_count": null,
      "outputs": []
    },
    {
      "cell_type": "code",
      "source": [],
      "metadata": {
        "id": "3qrbXZUo3EDs"
      },
      "execution_count": null,
      "outputs": []
    },
    {
      "cell_type": "code",
      "source": [],
      "metadata": {
        "id": "CP9rhnJM3EG4"
      },
      "execution_count": null,
      "outputs": []
    },
    {
      "cell_type": "code",
      "source": [],
      "metadata": {
        "id": "REykOVPy3EJw"
      },
      "execution_count": null,
      "outputs": []
    },
    {
      "cell_type": "code",
      "source": [],
      "metadata": {
        "id": "ENLKV43a3EMy"
      },
      "execution_count": null,
      "outputs": []
    },
    {
      "cell_type": "code",
      "source": [],
      "metadata": {
        "id": "WKbt9rJc3EQI"
      },
      "execution_count": null,
      "outputs": []
    },
    {
      "cell_type": "code",
      "source": [],
      "metadata": {
        "id": "UWFVJ8cr3ES9"
      },
      "execution_count": null,
      "outputs": []
    },
    {
      "cell_type": "code",
      "source": [],
      "metadata": {
        "id": "XtHo3VOx3EWN"
      },
      "execution_count": null,
      "outputs": []
    },
    {
      "cell_type": "code",
      "source": [],
      "metadata": {
        "id": "CwiAcdKL3EZZ"
      },
      "execution_count": null,
      "outputs": []
    },
    {
      "cell_type": "code",
      "source": [],
      "metadata": {
        "id": "4UPU7frR3Ecb"
      },
      "execution_count": null,
      "outputs": []
    },
    {
      "cell_type": "code",
      "source": [],
      "metadata": {
        "id": "MT5MAwUR3EgQ"
      },
      "execution_count": null,
      "outputs": []
    }
  ]
}